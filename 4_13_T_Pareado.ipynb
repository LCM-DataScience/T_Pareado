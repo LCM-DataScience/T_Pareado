{
  "cells": [
    {
      "cell_type": "markdown",
      "metadata": {
        "id": "-Phx_f-rpID6"
      },
      "source": [
        "## **Teste T Pareado**\n",
        "\n",
        "Compara as médias de duas amostras relacionadas (ou pareadas), onde há um fator de dependência entre as amostras."
      ]
    },
    {
      "cell_type": "markdown",
      "metadata": {
        "id": "AyqOjLo3sTNf"
      },
      "source": [
        "*Weekend effect: o retorno da segunda-feira é frequentemente menor que o da sexta-feira que a precede*\n"
      ]
    },
    {
      "cell_type": "markdown",
      "metadata": {},
      "source": [
        "### **Teste 1: 2022 até a atualidade**"
      ]
    },
    {
      "cell_type": "markdown",
      "metadata": {
        "id": "P-kbYtskGu7_"
      },
      "source": [
        "Esse efeito ainda pode ser visto nos retornos do IBOV, desde 2022 até a atualidade?\n",
        "\n",
        "- Hipótese H0 (nula): As médias de retorno não diferem estatisticamente\n",
        "- Hipótese H1 (alternativa): As médias de retorno diferem estatisticamente"
      ]
    },
    {
      "cell_type": "code",
      "execution_count": 1,
      "metadata": {
        "id": "bxmVgy6CFlww"
      },
      "outputs": [],
      "source": [
        "import pandas as pd\n",
        "from scipy import stats\n",
        "import pylab\n",
        "import yfinance as yf\n",
        "import plotly.graph_objects as go\n",
        "import numpy as np"
      ]
    },
    {
      "cell_type": "markdown",
      "metadata": {},
      "source": [
        "Obter os dados do IBOV e calcular os retornos diários (%) de 01/Jan/2022 até a atualidade"
      ]
    },
    {
      "cell_type": "code",
      "execution_count": 2,
      "metadata": {
        "colab": {
          "base_uri": "https://localhost:8080/"
        },
        "id": "3CBohEgZr6xZ",
        "outputId": "84532205-04b7-4019-b095-2f9eb11a492c"
      },
      "outputs": [
        {
          "name": "stderr",
          "output_type": "stream",
          "text": [
            "[*********************100%%**********************]  1 of 1 completed\n"
          ]
        },
        {
          "data": {
            "text/html": [
              "<div>\n",
              "<style scoped>\n",
              "    .dataframe tbody tr th:only-of-type {\n",
              "        vertical-align: middle;\n",
              "    }\n",
              "\n",
              "    .dataframe tbody tr th {\n",
              "        vertical-align: top;\n",
              "    }\n",
              "\n",
              "    .dataframe thead th {\n",
              "        text-align: right;\n",
              "    }\n",
              "</style>\n",
              "<table border=\"1\" class=\"dataframe\">\n",
              "  <thead>\n",
              "    <tr style=\"text-align: right;\">\n",
              "      <th></th>\n",
              "      <th>Open</th>\n",
              "      <th>High</th>\n",
              "      <th>Low</th>\n",
              "      <th>Close</th>\n",
              "      <th>Adj Close</th>\n",
              "      <th>Volume</th>\n",
              "      <th>retornos</th>\n",
              "    </tr>\n",
              "    <tr>\n",
              "      <th>Date</th>\n",
              "      <th></th>\n",
              "      <th></th>\n",
              "      <th></th>\n",
              "      <th></th>\n",
              "      <th></th>\n",
              "      <th></th>\n",
              "      <th></th>\n",
              "    </tr>\n",
              "  </thead>\n",
              "  <tbody>\n",
              "    <tr>\n",
              "      <th>2022-01-04</th>\n",
              "      <td>103922.000000</td>\n",
              "      <td>104276.000000</td>\n",
              "      <td>103096.000000</td>\n",
              "      <td>103514.00000</td>\n",
              "      <td>103514.00000</td>\n",
              "      <td>11491600</td>\n",
              "      <td>-0.392602</td>\n",
              "    </tr>\n",
              "    <tr>\n",
              "      <th>2022-01-05</th>\n",
              "      <td>103514.000000</td>\n",
              "      <td>103514.000000</td>\n",
              "      <td>100850.000000</td>\n",
              "      <td>101006.00000</td>\n",
              "      <td>101006.00000</td>\n",
              "      <td>0</td>\n",
              "      <td>-2.422861</td>\n",
              "    </tr>\n",
              "    <tr>\n",
              "      <th>2022-01-06</th>\n",
              "      <td>101006.000000</td>\n",
              "      <td>102235.000000</td>\n",
              "      <td>101000.000000</td>\n",
              "      <td>101561.00000</td>\n",
              "      <td>101561.00000</td>\n",
              "      <td>11749200</td>\n",
              "      <td>0.549472</td>\n",
              "    </tr>\n",
              "    <tr>\n",
              "      <th>2022-01-07</th>\n",
              "      <td>101561.000000</td>\n",
              "      <td>102719.000000</td>\n",
              "      <td>101104.000000</td>\n",
              "      <td>102719.00000</td>\n",
              "      <td>102719.00000</td>\n",
              "      <td>11733200</td>\n",
              "      <td>1.140201</td>\n",
              "    </tr>\n",
              "    <tr>\n",
              "      <th>2022-01-10</th>\n",
              "      <td>102719.000000</td>\n",
              "      <td>102719.000000</td>\n",
              "      <td>101038.000000</td>\n",
              "      <td>101945.00000</td>\n",
              "      <td>101945.00000</td>\n",
              "      <td>10264700</td>\n",
              "      <td>-0.753512</td>\n",
              "    </tr>\n",
              "    <tr>\n",
              "      <th>...</th>\n",
              "      <td>...</td>\n",
              "      <td>...</td>\n",
              "      <td>...</td>\n",
              "      <td>...</td>\n",
              "      <td>...</td>\n",
              "      <td>...</td>\n",
              "      <td>...</td>\n",
              "    </tr>\n",
              "    <tr>\n",
              "      <th>2024-08-02</th>\n",
              "      <td>127395.000000</td>\n",
              "      <td>128104.000000</td>\n",
              "      <td>125731.000000</td>\n",
              "      <td>125854.00000</td>\n",
              "      <td>125854.00000</td>\n",
              "      <td>9950900</td>\n",
              "      <td>-1.209624</td>\n",
              "    </tr>\n",
              "    <tr>\n",
              "      <th>2024-08-05</th>\n",
              "      <td>125851.000000</td>\n",
              "      <td>125851.000000</td>\n",
              "      <td>123073.000000</td>\n",
              "      <td>125270.00000</td>\n",
              "      <td>125270.00000</td>\n",
              "      <td>10886100</td>\n",
              "      <td>-0.464030</td>\n",
              "    </tr>\n",
              "    <tr>\n",
              "      <th>2024-08-06</th>\n",
              "      <td>125270.000000</td>\n",
              "      <td>126966.000000</td>\n",
              "      <td>125261.000000</td>\n",
              "      <td>126267.00000</td>\n",
              "      <td>126267.00000</td>\n",
              "      <td>10052600</td>\n",
              "      <td>0.795881</td>\n",
              "    </tr>\n",
              "    <tr>\n",
              "      <th>2024-08-07</th>\n",
              "      <td>126268.000000</td>\n",
              "      <td>127517.000000</td>\n",
              "      <td>126268.000000</td>\n",
              "      <td>127514.00000</td>\n",
              "      <td>127514.00000</td>\n",
              "      <td>8837900</td>\n",
              "      <td>0.987590</td>\n",
              "    </tr>\n",
              "    <tr>\n",
              "      <th>2024-08-08</th>\n",
              "      <td>127515.171875</td>\n",
              "      <td>128792.992188</td>\n",
              "      <td>127515.171875</td>\n",
              "      <td>128573.03125</td>\n",
              "      <td>128573.03125</td>\n",
              "      <td>0</td>\n",
              "      <td>0.830522</td>\n",
              "    </tr>\n",
              "  </tbody>\n",
              "</table>\n",
              "<p>650 rows × 7 columns</p>\n",
              "</div>"
            ],
            "text/plain": [
              "                     Open           High            Low         Close  \\\n",
              "Date                                                                    \n",
              "2022-01-04  103922.000000  104276.000000  103096.000000  103514.00000   \n",
              "2022-01-05  103514.000000  103514.000000  100850.000000  101006.00000   \n",
              "2022-01-06  101006.000000  102235.000000  101000.000000  101561.00000   \n",
              "2022-01-07  101561.000000  102719.000000  101104.000000  102719.00000   \n",
              "2022-01-10  102719.000000  102719.000000  101038.000000  101945.00000   \n",
              "...                   ...            ...            ...           ...   \n",
              "2024-08-02  127395.000000  128104.000000  125731.000000  125854.00000   \n",
              "2024-08-05  125851.000000  125851.000000  123073.000000  125270.00000   \n",
              "2024-08-06  125270.000000  126966.000000  125261.000000  126267.00000   \n",
              "2024-08-07  126268.000000  127517.000000  126268.000000  127514.00000   \n",
              "2024-08-08  127515.171875  128792.992188  127515.171875  128573.03125   \n",
              "\n",
              "               Adj Close    Volume  retornos  \n",
              "Date                                          \n",
              "2022-01-04  103514.00000  11491600 -0.392602  \n",
              "2022-01-05  101006.00000         0 -2.422861  \n",
              "2022-01-06  101561.00000  11749200  0.549472  \n",
              "2022-01-07  102719.00000  11733200  1.140201  \n",
              "2022-01-10  101945.00000  10264700 -0.753512  \n",
              "...                  ...       ...       ...  \n",
              "2024-08-02  125854.00000   9950900 -1.209624  \n",
              "2024-08-05  125270.00000  10886100 -0.464030  \n",
              "2024-08-06  126267.00000  10052600  0.795881  \n",
              "2024-08-07  127514.00000   8837900  0.987590  \n",
              "2024-08-08  128573.03125         0  0.830522  \n",
              "\n",
              "[650 rows x 7 columns]"
            ]
          },
          "execution_count": 2,
          "metadata": {},
          "output_type": "execute_result"
        }
      ],
      "source": [
        "dados_ibov = yf.download('^BVSP', start='2022-01-01')\n",
        "dados_ibov['retornos'] = dados_ibov.Close.pct_change()*100\n",
        "dados_ibov.dropna()"
      ]
    },
    {
      "cell_type": "markdown",
      "metadata": {},
      "source": [
        "Organizar os dados para obtenção dos dias da semana e da semana do ano:\n",
        "\n",
        "- Adiciona novas colunas \"dias da semana\", \"número para os dias\", \"número da semana\", \"ano\" e \"número para o ano\"  \n",
        "- Combina as colunas 'ano' e 'semana_ano' em uma única coluna 'ano_semana', criando um identificador único para cada semana do ano  \n",
        "- Remove quaisquer linhas do DataFrame que contenham valores nulos (NaN)\n"
      ]
    },
    {
      "cell_type": "code",
      "execution_count": 3,
      "metadata": {
        "colab": {
          "base_uri": "https://localhost:8080/"
        },
        "id": "Cx8Sg62Ar2yx",
        "outputId": "a50a9f96-fb5a-4789-edc3-a0199a8332bc"
      },
      "outputs": [
        {
          "data": {
            "text/html": [
              "<div>\n",
              "<style scoped>\n",
              "    .dataframe tbody tr th:only-of-type {\n",
              "        vertical-align: middle;\n",
              "    }\n",
              "\n",
              "    .dataframe tbody tr th {\n",
              "        vertical-align: top;\n",
              "    }\n",
              "\n",
              "    .dataframe thead th {\n",
              "        text-align: right;\n",
              "    }\n",
              "</style>\n",
              "<table border=\"1\" class=\"dataframe\">\n",
              "  <thead>\n",
              "    <tr style=\"text-align: right;\">\n",
              "      <th></th>\n",
              "      <th>Open</th>\n",
              "      <th>High</th>\n",
              "      <th>Low</th>\n",
              "      <th>Close</th>\n",
              "      <th>Adj Close</th>\n",
              "      <th>Volume</th>\n",
              "      <th>retornos</th>\n",
              "      <th>dia_semana</th>\n",
              "      <th>dia_semana_num</th>\n",
              "      <th>semana_ano</th>\n",
              "      <th>ano</th>\n",
              "      <th>ano_semana</th>\n",
              "    </tr>\n",
              "    <tr>\n",
              "      <th>Date</th>\n",
              "      <th></th>\n",
              "      <th></th>\n",
              "      <th></th>\n",
              "      <th></th>\n",
              "      <th></th>\n",
              "      <th></th>\n",
              "      <th></th>\n",
              "      <th></th>\n",
              "      <th></th>\n",
              "      <th></th>\n",
              "      <th></th>\n",
              "      <th></th>\n",
              "    </tr>\n",
              "  </thead>\n",
              "  <tbody>\n",
              "    <tr>\n",
              "      <th>2022-01-04</th>\n",
              "      <td>103922.000000</td>\n",
              "      <td>104276.000000</td>\n",
              "      <td>103096.000000</td>\n",
              "      <td>103514.00000</td>\n",
              "      <td>103514.00000</td>\n",
              "      <td>11491600</td>\n",
              "      <td>-0.392602</td>\n",
              "      <td>Tuesday</td>\n",
              "      <td>1</td>\n",
              "      <td>1</td>\n",
              "      <td>2022</td>\n",
              "      <td>2022_1</td>\n",
              "    </tr>\n",
              "    <tr>\n",
              "      <th>2022-01-05</th>\n",
              "      <td>103514.000000</td>\n",
              "      <td>103514.000000</td>\n",
              "      <td>100850.000000</td>\n",
              "      <td>101006.00000</td>\n",
              "      <td>101006.00000</td>\n",
              "      <td>0</td>\n",
              "      <td>-2.422861</td>\n",
              "      <td>Wednesday</td>\n",
              "      <td>2</td>\n",
              "      <td>1</td>\n",
              "      <td>2022</td>\n",
              "      <td>2022_1</td>\n",
              "    </tr>\n",
              "    <tr>\n",
              "      <th>2022-01-06</th>\n",
              "      <td>101006.000000</td>\n",
              "      <td>102235.000000</td>\n",
              "      <td>101000.000000</td>\n",
              "      <td>101561.00000</td>\n",
              "      <td>101561.00000</td>\n",
              "      <td>11749200</td>\n",
              "      <td>0.549472</td>\n",
              "      <td>Thursday</td>\n",
              "      <td>3</td>\n",
              "      <td>1</td>\n",
              "      <td>2022</td>\n",
              "      <td>2022_1</td>\n",
              "    </tr>\n",
              "    <tr>\n",
              "      <th>2022-01-07</th>\n",
              "      <td>101561.000000</td>\n",
              "      <td>102719.000000</td>\n",
              "      <td>101104.000000</td>\n",
              "      <td>102719.00000</td>\n",
              "      <td>102719.00000</td>\n",
              "      <td>11733200</td>\n",
              "      <td>1.140201</td>\n",
              "      <td>Friday</td>\n",
              "      <td>4</td>\n",
              "      <td>1</td>\n",
              "      <td>2022</td>\n",
              "      <td>2022_1</td>\n",
              "    </tr>\n",
              "    <tr>\n",
              "      <th>2022-01-10</th>\n",
              "      <td>102719.000000</td>\n",
              "      <td>102719.000000</td>\n",
              "      <td>101038.000000</td>\n",
              "      <td>101945.00000</td>\n",
              "      <td>101945.00000</td>\n",
              "      <td>10264700</td>\n",
              "      <td>-0.753512</td>\n",
              "      <td>Monday</td>\n",
              "      <td>0</td>\n",
              "      <td>2</td>\n",
              "      <td>2022</td>\n",
              "      <td>2022_2</td>\n",
              "    </tr>\n",
              "    <tr>\n",
              "      <th>...</th>\n",
              "      <td>...</td>\n",
              "      <td>...</td>\n",
              "      <td>...</td>\n",
              "      <td>...</td>\n",
              "      <td>...</td>\n",
              "      <td>...</td>\n",
              "      <td>...</td>\n",
              "      <td>...</td>\n",
              "      <td>...</td>\n",
              "      <td>...</td>\n",
              "      <td>...</td>\n",
              "      <td>...</td>\n",
              "    </tr>\n",
              "    <tr>\n",
              "      <th>2024-08-02</th>\n",
              "      <td>127395.000000</td>\n",
              "      <td>128104.000000</td>\n",
              "      <td>125731.000000</td>\n",
              "      <td>125854.00000</td>\n",
              "      <td>125854.00000</td>\n",
              "      <td>9950900</td>\n",
              "      <td>-1.209624</td>\n",
              "      <td>Friday</td>\n",
              "      <td>4</td>\n",
              "      <td>31</td>\n",
              "      <td>2024</td>\n",
              "      <td>2024_31</td>\n",
              "    </tr>\n",
              "    <tr>\n",
              "      <th>2024-08-05</th>\n",
              "      <td>125851.000000</td>\n",
              "      <td>125851.000000</td>\n",
              "      <td>123073.000000</td>\n",
              "      <td>125270.00000</td>\n",
              "      <td>125270.00000</td>\n",
              "      <td>10886100</td>\n",
              "      <td>-0.464030</td>\n",
              "      <td>Monday</td>\n",
              "      <td>0</td>\n",
              "      <td>32</td>\n",
              "      <td>2024</td>\n",
              "      <td>2024_32</td>\n",
              "    </tr>\n",
              "    <tr>\n",
              "      <th>2024-08-06</th>\n",
              "      <td>125270.000000</td>\n",
              "      <td>126966.000000</td>\n",
              "      <td>125261.000000</td>\n",
              "      <td>126267.00000</td>\n",
              "      <td>126267.00000</td>\n",
              "      <td>10052600</td>\n",
              "      <td>0.795881</td>\n",
              "      <td>Tuesday</td>\n",
              "      <td>1</td>\n",
              "      <td>32</td>\n",
              "      <td>2024</td>\n",
              "      <td>2024_32</td>\n",
              "    </tr>\n",
              "    <tr>\n",
              "      <th>2024-08-07</th>\n",
              "      <td>126268.000000</td>\n",
              "      <td>127517.000000</td>\n",
              "      <td>126268.000000</td>\n",
              "      <td>127514.00000</td>\n",
              "      <td>127514.00000</td>\n",
              "      <td>8837900</td>\n",
              "      <td>0.987590</td>\n",
              "      <td>Wednesday</td>\n",
              "      <td>2</td>\n",
              "      <td>32</td>\n",
              "      <td>2024</td>\n",
              "      <td>2024_32</td>\n",
              "    </tr>\n",
              "    <tr>\n",
              "      <th>2024-08-08</th>\n",
              "      <td>127515.171875</td>\n",
              "      <td>128792.992188</td>\n",
              "      <td>127515.171875</td>\n",
              "      <td>128573.03125</td>\n",
              "      <td>128573.03125</td>\n",
              "      <td>0</td>\n",
              "      <td>0.830522</td>\n",
              "      <td>Thursday</td>\n",
              "      <td>3</td>\n",
              "      <td>32</td>\n",
              "      <td>2024</td>\n",
              "      <td>2024_32</td>\n",
              "    </tr>\n",
              "  </tbody>\n",
              "</table>\n",
              "<p>650 rows × 12 columns</p>\n",
              "</div>"
            ],
            "text/plain": [
              "                     Open           High            Low         Close  \\\n",
              "Date                                                                    \n",
              "2022-01-04  103922.000000  104276.000000  103096.000000  103514.00000   \n",
              "2022-01-05  103514.000000  103514.000000  100850.000000  101006.00000   \n",
              "2022-01-06  101006.000000  102235.000000  101000.000000  101561.00000   \n",
              "2022-01-07  101561.000000  102719.000000  101104.000000  102719.00000   \n",
              "2022-01-10  102719.000000  102719.000000  101038.000000  101945.00000   \n",
              "...                   ...            ...            ...           ...   \n",
              "2024-08-02  127395.000000  128104.000000  125731.000000  125854.00000   \n",
              "2024-08-05  125851.000000  125851.000000  123073.000000  125270.00000   \n",
              "2024-08-06  125270.000000  126966.000000  125261.000000  126267.00000   \n",
              "2024-08-07  126268.000000  127517.000000  126268.000000  127514.00000   \n",
              "2024-08-08  127515.171875  128792.992188  127515.171875  128573.03125   \n",
              "\n",
              "               Adj Close    Volume  retornos dia_semana  dia_semana_num  \\\n",
              "Date                                                                      \n",
              "2022-01-04  103514.00000  11491600 -0.392602    Tuesday               1   \n",
              "2022-01-05  101006.00000         0 -2.422861  Wednesday               2   \n",
              "2022-01-06  101561.00000  11749200  0.549472   Thursday               3   \n",
              "2022-01-07  102719.00000  11733200  1.140201     Friday               4   \n",
              "2022-01-10  101945.00000  10264700 -0.753512     Monday               0   \n",
              "...                  ...       ...       ...        ...             ...   \n",
              "2024-08-02  125854.00000   9950900 -1.209624     Friday               4   \n",
              "2024-08-05  125270.00000  10886100 -0.464030     Monday               0   \n",
              "2024-08-06  126267.00000  10052600  0.795881    Tuesday               1   \n",
              "2024-08-07  127514.00000   8837900  0.987590  Wednesday               2   \n",
              "2024-08-08  128573.03125         0  0.830522   Thursday               3   \n",
              "\n",
              "            semana_ano   ano ano_semana  \n",
              "Date                                     \n",
              "2022-01-04           1  2022     2022_1  \n",
              "2022-01-05           1  2022     2022_1  \n",
              "2022-01-06           1  2022     2022_1  \n",
              "2022-01-07           1  2022     2022_1  \n",
              "2022-01-10           2  2022     2022_2  \n",
              "...                ...   ...        ...  \n",
              "2024-08-02          31  2024    2024_31  \n",
              "2024-08-05          32  2024    2024_32  \n",
              "2024-08-06          32  2024    2024_32  \n",
              "2024-08-07          32  2024    2024_32  \n",
              "2024-08-08          32  2024    2024_32  \n",
              "\n",
              "[650 rows x 12 columns]"
            ]
          },
          "execution_count": 3,
          "metadata": {},
          "output_type": "execute_result"
        }
      ],
      "source": [
        "dados_ibov['dia_semana'] = dados_ibov.index.day_name()\n",
        "dados_ibov['dia_semana_num'] = dados_ibov.index.day_of_week\n",
        "dados_ibov['semana_ano'] = dados_ibov.index.isocalendar().week\n",
        "dados_ibov['ano'] = dados_ibov.index.year\n",
        "\n",
        "dados_ibov['ano_semana'] = dados_ibov['ano'].astype(str) + \"_\" + dados_ibov['semana_ano'].astype(str)\n",
        "\n",
        "dados_ibov.dropna()"
      ]
    },
    {
      "cell_type": "markdown",
      "metadata": {},
      "source": [
        "Filtrar os dados de interesse para teste t pareado, que compara os retornos das segundas-feiras com os retornos das sextas-feiras que as precedem:  \n",
        "\n",
        "- Filtra o DataFrame 'dados_ibov' para incluir apenas as linhas onde o dia da semana é segunda-feira ('Monday') ou sexta-feira ('Friday')"
      ]
    },
    {
      "cell_type": "code",
      "execution_count": 4,
      "metadata": {
        "colab": {
          "base_uri": "https://localhost:8080/"
        },
        "id": "uacJ5D6Fmj5c",
        "outputId": "2bb9048a-0951-4f9a-bb84-50bf02b281a6"
      },
      "outputs": [
        {
          "data": {
            "text/html": [
              "<div>\n",
              "<style scoped>\n",
              "    .dataframe tbody tr th:only-of-type {\n",
              "        vertical-align: middle;\n",
              "    }\n",
              "\n",
              "    .dataframe tbody tr th {\n",
              "        vertical-align: top;\n",
              "    }\n",
              "\n",
              "    .dataframe thead th {\n",
              "        text-align: right;\n",
              "    }\n",
              "</style>\n",
              "<table border=\"1\" class=\"dataframe\">\n",
              "  <thead>\n",
              "    <tr style=\"text-align: right;\">\n",
              "      <th></th>\n",
              "      <th>Open</th>\n",
              "      <th>High</th>\n",
              "      <th>Low</th>\n",
              "      <th>Close</th>\n",
              "      <th>Adj Close</th>\n",
              "      <th>Volume</th>\n",
              "      <th>retornos</th>\n",
              "      <th>dia_semana</th>\n",
              "      <th>dia_semana_num</th>\n",
              "      <th>semana_ano</th>\n",
              "      <th>ano</th>\n",
              "      <th>ano_semana</th>\n",
              "    </tr>\n",
              "    <tr>\n",
              "      <th>Date</th>\n",
              "      <th></th>\n",
              "      <th></th>\n",
              "      <th></th>\n",
              "      <th></th>\n",
              "      <th></th>\n",
              "      <th></th>\n",
              "      <th></th>\n",
              "      <th></th>\n",
              "      <th></th>\n",
              "      <th></th>\n",
              "      <th></th>\n",
              "      <th></th>\n",
              "    </tr>\n",
              "  </thead>\n",
              "  <tbody>\n",
              "    <tr>\n",
              "      <th>2022-01-07</th>\n",
              "      <td>101561.0</td>\n",
              "      <td>102719.0</td>\n",
              "      <td>101104.0</td>\n",
              "      <td>102719.0</td>\n",
              "      <td>102719.0</td>\n",
              "      <td>11733200</td>\n",
              "      <td>1.140201</td>\n",
              "      <td>Friday</td>\n",
              "      <td>4</td>\n",
              "      <td>1</td>\n",
              "      <td>2022</td>\n",
              "      <td>2022_1</td>\n",
              "    </tr>\n",
              "    <tr>\n",
              "      <th>2022-01-10</th>\n",
              "      <td>102719.0</td>\n",
              "      <td>102719.0</td>\n",
              "      <td>101038.0</td>\n",
              "      <td>101945.0</td>\n",
              "      <td>101945.0</td>\n",
              "      <td>10264700</td>\n",
              "      <td>-0.753512</td>\n",
              "      <td>Monday</td>\n",
              "      <td>0</td>\n",
              "      <td>2</td>\n",
              "      <td>2022</td>\n",
              "      <td>2022_2</td>\n",
              "    </tr>\n",
              "    <tr>\n",
              "      <th>2022-01-14</th>\n",
              "      <td>105530.0</td>\n",
              "      <td>107062.0</td>\n",
              "      <td>105028.0</td>\n",
              "      <td>106928.0</td>\n",
              "      <td>106928.0</td>\n",
              "      <td>11457100</td>\n",
              "      <td>1.324742</td>\n",
              "      <td>Friday</td>\n",
              "      <td>4</td>\n",
              "      <td>2</td>\n",
              "      <td>2022</td>\n",
              "      <td>2022_2</td>\n",
              "    </tr>\n",
              "    <tr>\n",
              "      <th>2022-01-17</th>\n",
              "      <td>106927.0</td>\n",
              "      <td>106928.0</td>\n",
              "      <td>106097.0</td>\n",
              "      <td>106692.0</td>\n",
              "      <td>106692.0</td>\n",
              "      <td>6924200</td>\n",
              "      <td>-0.220709</td>\n",
              "      <td>Monday</td>\n",
              "      <td>0</td>\n",
              "      <td>3</td>\n",
              "      <td>2022</td>\n",
              "      <td>2022_3</td>\n",
              "    </tr>\n",
              "    <tr>\n",
              "      <th>2022-01-21</th>\n",
              "      <td>109097.0</td>\n",
              "      <td>109786.0</td>\n",
              "      <td>108368.0</td>\n",
              "      <td>108942.0</td>\n",
              "      <td>108942.0</td>\n",
              "      <td>13408400</td>\n",
              "      <td>-0.146652</td>\n",
              "      <td>Friday</td>\n",
              "      <td>4</td>\n",
              "      <td>3</td>\n",
              "      <td>2022</td>\n",
              "      <td>2022_3</td>\n",
              "    </tr>\n",
              "    <tr>\n",
              "      <th>...</th>\n",
              "      <td>...</td>\n",
              "      <td>...</td>\n",
              "      <td>...</td>\n",
              "      <td>...</td>\n",
              "      <td>...</td>\n",
              "      <td>...</td>\n",
              "      <td>...</td>\n",
              "      <td>...</td>\n",
              "      <td>...</td>\n",
              "      <td>...</td>\n",
              "      <td>...</td>\n",
              "      <td>...</td>\n",
              "    </tr>\n",
              "    <tr>\n",
              "      <th>2024-07-22</th>\n",
              "      <td>127616.0</td>\n",
              "      <td>128151.0</td>\n",
              "      <td>127456.0</td>\n",
              "      <td>127860.0</td>\n",
              "      <td>127860.0</td>\n",
              "      <td>6098200</td>\n",
              "      <td>0.191199</td>\n",
              "      <td>Monday</td>\n",
              "      <td>0</td>\n",
              "      <td>30</td>\n",
              "      <td>2024</td>\n",
              "      <td>2024_30</td>\n",
              "    </tr>\n",
              "    <tr>\n",
              "      <th>2024-07-26</th>\n",
              "      <td>125964.0</td>\n",
              "      <td>127700.0</td>\n",
              "      <td>125953.0</td>\n",
              "      <td>127492.0</td>\n",
              "      <td>127492.0</td>\n",
              "      <td>8272000</td>\n",
              "      <td>1.221081</td>\n",
              "      <td>Friday</td>\n",
              "      <td>4</td>\n",
              "      <td>30</td>\n",
              "      <td>2024</td>\n",
              "      <td>2024_30</td>\n",
              "    </tr>\n",
              "    <tr>\n",
              "      <th>2024-07-29</th>\n",
              "      <td>127492.0</td>\n",
              "      <td>127657.0</td>\n",
              "      <td>126606.0</td>\n",
              "      <td>126954.0</td>\n",
              "      <td>126954.0</td>\n",
              "      <td>7075400</td>\n",
              "      <td>-0.421987</td>\n",
              "      <td>Monday</td>\n",
              "      <td>0</td>\n",
              "      <td>31</td>\n",
              "      <td>2024</td>\n",
              "      <td>2024_31</td>\n",
              "    </tr>\n",
              "    <tr>\n",
              "      <th>2024-08-02</th>\n",
              "      <td>127395.0</td>\n",
              "      <td>128104.0</td>\n",
              "      <td>125731.0</td>\n",
              "      <td>125854.0</td>\n",
              "      <td>125854.0</td>\n",
              "      <td>9950900</td>\n",
              "      <td>-1.209624</td>\n",
              "      <td>Friday</td>\n",
              "      <td>4</td>\n",
              "      <td>31</td>\n",
              "      <td>2024</td>\n",
              "      <td>2024_31</td>\n",
              "    </tr>\n",
              "    <tr>\n",
              "      <th>2024-08-05</th>\n",
              "      <td>125851.0</td>\n",
              "      <td>125851.0</td>\n",
              "      <td>123073.0</td>\n",
              "      <td>125270.0</td>\n",
              "      <td>125270.0</td>\n",
              "      <td>10886100</td>\n",
              "      <td>-0.464030</td>\n",
              "      <td>Monday</td>\n",
              "      <td>0</td>\n",
              "      <td>32</td>\n",
              "      <td>2024</td>\n",
              "      <td>2024_32</td>\n",
              "    </tr>\n",
              "  </tbody>\n",
              "</table>\n",
              "<p>258 rows × 12 columns</p>\n",
              "</div>"
            ],
            "text/plain": [
              "                Open      High       Low     Close  Adj Close    Volume  \\\n",
              "Date                                                                      \n",
              "2022-01-07  101561.0  102719.0  101104.0  102719.0   102719.0  11733200   \n",
              "2022-01-10  102719.0  102719.0  101038.0  101945.0   101945.0  10264700   \n",
              "2022-01-14  105530.0  107062.0  105028.0  106928.0   106928.0  11457100   \n",
              "2022-01-17  106927.0  106928.0  106097.0  106692.0   106692.0   6924200   \n",
              "2022-01-21  109097.0  109786.0  108368.0  108942.0   108942.0  13408400   \n",
              "...              ...       ...       ...       ...        ...       ...   \n",
              "2024-07-22  127616.0  128151.0  127456.0  127860.0   127860.0   6098200   \n",
              "2024-07-26  125964.0  127700.0  125953.0  127492.0   127492.0   8272000   \n",
              "2024-07-29  127492.0  127657.0  126606.0  126954.0   126954.0   7075400   \n",
              "2024-08-02  127395.0  128104.0  125731.0  125854.0   125854.0   9950900   \n",
              "2024-08-05  125851.0  125851.0  123073.0  125270.0   125270.0  10886100   \n",
              "\n",
              "            retornos dia_semana  dia_semana_num  semana_ano   ano ano_semana  \n",
              "Date                                                                          \n",
              "2022-01-07  1.140201     Friday               4           1  2022     2022_1  \n",
              "2022-01-10 -0.753512     Monday               0           2  2022     2022_2  \n",
              "2022-01-14  1.324742     Friday               4           2  2022     2022_2  \n",
              "2022-01-17 -0.220709     Monday               0           3  2022     2022_3  \n",
              "2022-01-21 -0.146652     Friday               4           3  2022     2022_3  \n",
              "...              ...        ...             ...         ...   ...        ...  \n",
              "2024-07-22  0.191199     Monday               0          30  2024    2024_30  \n",
              "2024-07-26  1.221081     Friday               4          30  2024    2024_30  \n",
              "2024-07-29 -0.421987     Monday               0          31  2024    2024_31  \n",
              "2024-08-02 -1.209624     Friday               4          31  2024    2024_31  \n",
              "2024-08-05 -0.464030     Monday               0          32  2024    2024_32  \n",
              "\n",
              "[258 rows x 12 columns]"
            ]
          },
          "execution_count": 4,
          "metadata": {},
          "output_type": "execute_result"
        }
      ],
      "source": [
        "dados_seg_sex = dados_ibov[(dados_ibov['dia_semana']=='Monday') | (dados_ibov['dia_semana']=='Friday')]\n",
        "dados_seg_sex.dropna()"
      ]
    },
    {
      "cell_type": "markdown",
      "metadata": {},
      "source": [
        "Tabela dinâmica com a média e erro padrão da média para segundas e sextas:\n",
        "\n",
        "O \"erro padrão\" refere-se ao erro padrão da média (Standard Error of the Mean - SEM). É uma medida estatística que indica quão próximas as médias amostrais estão da média da população de onde a amostra foi retirada. Matematicamente, o erro padrão é calculado dividindo o desvio padrão da amostra pelo raiz quadrada do número de observações na amostra. Quanto menor o erro padrão, mais precisa é a estimativa da média da população baseada na média amostral. Neste código foi usado o método \".sem()\" da biblioteca Pandas\n",
        "\n",
        "- Criar uma tabela dinâmica que agrupa os dados por número do dia da semana e nome do dia da semana, calculando a média dos retornos para cada grupo. Isso resulta em médias separadas para segundas e sextas-feiras  \n",
        "- Remover o nível desnecessário do índice da tabela resultante  \n",
        "- Criar outra tabela dinâmica que calcula o erro padrão da média (SEM) dos retornos para cada grupo (segundas e sextas-feiras)  \n",
        "- Remover novamente o nível desnecessário do índice "
      ]
    },
    {
      "cell_type": "markdown",
      "metadata": {},
      "source": [
        "- Concatenar as tabelas de médias e erros padrão lado a lado, resultando em um DataFrame que contém ambas as estatísticas para cada dia da semana  \n",
        "- Renomear as colunas da tabela concatenada para 'Media_retornos' e 'SEM_retornos'"
      ]
    },
    {
      "cell_type": "code",
      "execution_count": 5,
      "metadata": {
        "colab": {
          "base_uri": "https://localhost:8080/"
        },
        "id": "0UizIwaiqF_h",
        "outputId": "56e5c23a-eadd-431b-aeb2-0a3cca1af7eb"
      },
      "outputs": [
        {
          "data": {
            "text/html": [
              "<div>\n",
              "<style scoped>\n",
              "    .dataframe tbody tr th:only-of-type {\n",
              "        vertical-align: middle;\n",
              "    }\n",
              "\n",
              "    .dataframe tbody tr th {\n",
              "        vertical-align: top;\n",
              "    }\n",
              "\n",
              "    .dataframe thead th {\n",
              "        text-align: right;\n",
              "    }\n",
              "</style>\n",
              "<table border=\"1\" class=\"dataframe\">\n",
              "  <thead>\n",
              "    <tr style=\"text-align: right;\">\n",
              "      <th></th>\n",
              "      <th>Media_retornos</th>\n",
              "      <th>SEM_retornos</th>\n",
              "    </tr>\n",
              "    <tr>\n",
              "      <th>dia_semana</th>\n",
              "      <th></th>\n",
              "      <th></th>\n",
              "    </tr>\n",
              "  </thead>\n",
              "  <tbody>\n",
              "    <tr>\n",
              "      <th>Monday</th>\n",
              "      <td>-0.061196</td>\n",
              "      <td>0.102627</td>\n",
              "    </tr>\n",
              "    <tr>\n",
              "      <th>Friday</th>\n",
              "      <td>0.028745</td>\n",
              "      <td>0.105321</td>\n",
              "    </tr>\n",
              "  </tbody>\n",
              "</table>\n",
              "</div>"
            ],
            "text/plain": [
              "            Media_retornos  SEM_retornos\n",
              "dia_semana                              \n",
              "Monday           -0.061196      0.102627\n",
              "Friday            0.028745      0.105321"
            ]
          },
          "execution_count": 5,
          "metadata": {},
          "output_type": "execute_result"
        }
      ],
      "source": [
        "dados_media = dados_seg_sex[['dia_semana_num','dia_semana','retornos']].groupby(['dia_semana_num','dia_semana']).mean()\n",
        "dados_media = dados_media.droplevel(0, axis=0)\n",
        "dados_sem = dados_seg_sex[['dia_semana_num','dia_semana','retornos']].groupby(['dia_semana_num','dia_semana']).sem()\n",
        "dados_sem = dados_sem.droplevel(0, axis=0)\n",
        "\n",
        "dados_desde_2010 = pd.concat([dados_media, dados_sem], axis=1)\n",
        "dados_desde_2010.columns = ['Media_retornos', 'SEM_retornos']\n",
        "dados_desde_2010"
      ]
    },
    {
      "cell_type": "markdown",
      "metadata": {},
      "source": [
        "Visualizando os dados da tabela acima"
      ]
    },
    {
      "cell_type": "code",
      "execution_count": 6,
      "metadata": {
        "colab": {
          "base_uri": "https://localhost:8080/"
        },
        "id": "KX2HJpfaqF62",
        "outputId": "ab97443b-e9d5-415c-bf28-c84f7ee62fb9"
      },
      "outputs": [
        {
          "data": {
            "application/vnd.plotly.v1+json": {
              "config": {
                "plotlyServerURL": "https://plot.ly"
              },
              "data": [
                {
                  "error_y": {
                    "array": [
                      0.10262663988560025,
                      0.10532132177547292
                    ],
                    "type": "data"
                  },
                  "marker": {
                    "color": "lightgreen"
                  },
                  "name": "Retornos",
                  "orientation": "v",
                  "type": "bar",
                  "x": [
                    "Monday",
                    "Friday"
                  ],
                  "y": [
                    -0.061196111247181204,
                    0.028745065843783186
                  ]
                }
              ],
              "layout": {
                "font": {
                  "color": "black",
                  "family": "Arial",
                  "size": 13
                },
                "height": 400,
                "margin": {
                  "b": 75,
                  "l": 75,
                  "r": 20,
                  "t": 75
                },
                "paper_bgcolor": "#f7f8fa",
                "template": {
                  "data": {
                    "scatter": [
                      {
                        "type": "scatter"
                      }
                    ]
                  }
                },
                "title": {
                  "text": "<b>Retornos IBOV</b> (média ± erro padrão da média) por dia da semana <br><b>desde 2022"
                },
                "width": 900,
                "xaxis": {
                  "title": {
                    "text": "<b>Dia da semana"
                  }
                },
                "yaxis": {
                  "title": {
                    "text": "<b>Retorno médio diário (%)"
                  }
                }
              }
            }
          },
          "metadata": {},
          "output_type": "display_data"
        }
      ],
      "source": [
        "fig = go.Figure()\n",
        "\n",
        "fig.add_trace(go.Bar(name='Retornos', x=dados_desde_2010.index, y=dados_desde_2010.Media_retornos,\n",
        "                     error_y=dict(type='data', array=dados_desde_2010.SEM_retornos),\n",
        "                     marker_color='lightgreen', orientation='v'))\n",
        "\n",
        "fig.update_layout(title_text='<b>Retornos IBOV</b> (média \\xB1 erro padrão da média) por dia da semana <br><b>desde 2022', xaxis_title= '<b>Dia da semana',\n",
        "                  yaxis_title= '<b>Retorno médio diário (%)', template=\"none\", margin=dict(l=75, r=20, t=75, b=75),\n",
        "                  paper_bgcolor=\"#f7f8fa\", font=dict(family=\"Arial\", size=13, color=\"black\"), width=900, height=400)\n",
        "\n",
        "fig.show()"
      ]
    },
    {
      "attachments": {
        "t1.png": {
          "image/png": "[encoded data removed]"
        }
      },
      "cell_type": "markdown",
      "metadata": {},
      "source": [
        "![t1.png](attachment:t1.png)"
      ]
    },
    {
      "cell_type": "markdown",
      "metadata": {},
      "source": [
        "Formato para T pareado:  \n",
        "\n",
        "- Um dicionário vazio é criado para armazenar os dados relevantes para o teste t pareado. As chaves do dicionário representam as colunas do DataFrame final  \n",
        "\n",
        "- O loop percorre o DataFrame 'dados_seg_sex' começando do segundo elemento até o último, verificando condições específicas entre elementos consecutivos para identificar transições de sexta-feira para segunda-feira dentro do mesmo ano. Quando encontra uma transição que atende aos critérios, ele registra as informações no dicionário criado: 'dados' "
      ]
    },
    {
      "cell_type": "code",
      "execution_count": 7,
      "metadata": {
        "id": "osSpNsgUqF1Z"
      },
      "outputs": [],
      "source": [
        "dados = {'Data':[], 'Monday':[], 'Friday':[], 'Week_monday':[], 'Week_friday':[]}\n",
        "\n",
        "for i in range(1,len(dados_seg_sex)):\n",
        "  if (dados_seg_sex.iloc[i-1]['dia_semana']=='Friday') and (dados_seg_sex.iloc[i]['dia_semana']=='Monday'):\n",
        "    if dados_seg_sex.iloc[i-1]['semana_ano']==(dados_seg_sex.iloc[i]['semana_ano']-1):\n",
        "      dados['Data'].append(dados_seg_sex.index[i])\n",
        "      dados['Monday'].append(dados_seg_sex.iloc[i]['retornos'])\n",
        "      dados['Week_monday'].append(dados_seg_sex.iloc[i]['ano_semana'])\n",
        "      dados['Friday'].append(dados_seg_sex.iloc[i-1]['retornos'])\n",
        "      dados['Week_friday'].append(dados_seg_sex.iloc[i-1]['ano_semana'])\n",
        "\n",
        "df_analise = pd.DataFrame(dados)"
      ]
    },
    {
      "cell_type": "code",
      "execution_count": 8,
      "metadata": {
        "colab": {
          "base_uri": "https://localhost:8080/"
        },
        "id": "QgLI4MPd_PT8",
        "outputId": "829cbdec-7b03-41b2-cb32-30b09fcfc39a"
      },
      "outputs": [
        {
          "data": {
            "text/html": [
              "<div>\n",
              "<style scoped>\n",
              "    .dataframe tbody tr th:only-of-type {\n",
              "        vertical-align: middle;\n",
              "    }\n",
              "\n",
              "    .dataframe tbody tr th {\n",
              "        vertical-align: top;\n",
              "    }\n",
              "\n",
              "    .dataframe thead th {\n",
              "        text-align: right;\n",
              "    }\n",
              "</style>\n",
              "<table border=\"1\" class=\"dataframe\">\n",
              "  <thead>\n",
              "    <tr style=\"text-align: right;\">\n",
              "      <th></th>\n",
              "      <th>Data</th>\n",
              "      <th>Monday</th>\n",
              "      <th>Friday</th>\n",
              "      <th>Week_monday</th>\n",
              "      <th>Week_friday</th>\n",
              "    </tr>\n",
              "  </thead>\n",
              "  <tbody>\n",
              "    <tr>\n",
              "      <th>0</th>\n",
              "      <td>2022-01-10</td>\n",
              "      <td>-0.753512</td>\n",
              "      <td>1.140201</td>\n",
              "      <td>2022_2</td>\n",
              "      <td>2022_1</td>\n",
              "    </tr>\n",
              "    <tr>\n",
              "      <th>1</th>\n",
              "      <td>2022-01-17</td>\n",
              "      <td>-0.220709</td>\n",
              "      <td>1.324742</td>\n",
              "      <td>2022_3</td>\n",
              "      <td>2022_2</td>\n",
              "    </tr>\n",
              "    <tr>\n",
              "      <th>2</th>\n",
              "      <td>2022-01-24</td>\n",
              "      <td>-1.092324</td>\n",
              "      <td>-0.146652</td>\n",
              "      <td>2022_4</td>\n",
              "      <td>2022_3</td>\n",
              "    </tr>\n",
              "    <tr>\n",
              "      <th>3</th>\n",
              "      <td>2022-01-31</td>\n",
              "      <td>0.816305</td>\n",
              "      <td>-0.745225</td>\n",
              "      <td>2022_5</td>\n",
              "      <td>2022_4</td>\n",
              "    </tr>\n",
              "    <tr>\n",
              "      <th>4</th>\n",
              "      <td>2022-02-07</td>\n",
              "      <td>-0.221836</td>\n",
              "      <td>0.491513</td>\n",
              "      <td>2022_6</td>\n",
              "      <td>2022_5</td>\n",
              "    </tr>\n",
              "    <tr>\n",
              "      <th>5</th>\n",
              "      <td>2022-02-14</td>\n",
              "      <td>0.206917</td>\n",
              "      <td>0.187899</td>\n",
              "      <td>2022_7</td>\n",
              "      <td>2022_6</td>\n",
              "    </tr>\n",
              "    <tr>\n",
              "      <th>6</th>\n",
              "      <td>2022-02-21</td>\n",
              "      <td>-0.924908</td>\n",
              "      <td>-0.669438</td>\n",
              "      <td>2022_8</td>\n",
              "      <td>2022_7</td>\n",
              "    </tr>\n",
              "    <tr>\n",
              "      <th>7</th>\n",
              "      <td>2022-03-07</td>\n",
              "      <td>-2.516729</td>\n",
              "      <td>-0.600872</td>\n",
              "      <td>2022_10</td>\n",
              "      <td>2022_9</td>\n",
              "    </tr>\n",
              "    <tr>\n",
              "      <th>8</th>\n",
              "      <td>2022-03-14</td>\n",
              "      <td>-1.597844</td>\n",
              "      <td>-1.715598</td>\n",
              "      <td>2022_11</td>\n",
              "      <td>2022_10</td>\n",
              "    </tr>\n",
              "    <tr>\n",
              "      <th>9</th>\n",
              "      <td>2022-03-21</td>\n",
              "      <td>0.731934</td>\n",
              "      <td>1.976547</td>\n",
              "      <td>2022_12</td>\n",
              "      <td>2022_11</td>\n",
              "    </tr>\n",
              "  </tbody>\n",
              "</table>\n",
              "</div>"
            ],
            "text/plain": [
              "        Data    Monday    Friday Week_monday Week_friday\n",
              "0 2022-01-10 -0.753512  1.140201      2022_2      2022_1\n",
              "1 2022-01-17 -0.220709  1.324742      2022_3      2022_2\n",
              "2 2022-01-24 -1.092324 -0.146652      2022_4      2022_3\n",
              "3 2022-01-31  0.816305 -0.745225      2022_5      2022_4\n",
              "4 2022-02-07 -0.221836  0.491513      2022_6      2022_5\n",
              "5 2022-02-14  0.206917  0.187899      2022_7      2022_6\n",
              "6 2022-02-21 -0.924908 -0.669438      2022_8      2022_7\n",
              "7 2022-03-07 -2.516729 -0.600872     2022_10      2022_9\n",
              "8 2022-03-14 -1.597844 -1.715598     2022_11     2022_10\n",
              "9 2022-03-21  0.731934  1.976547     2022_12     2022_11"
            ]
          },
          "execution_count": 8,
          "metadata": {},
          "output_type": "execute_result"
        }
      ],
      "source": [
        "df_analise.head(10)"
      ]
    },
    {
      "cell_type": "markdown",
      "metadata": {},
      "source": [
        "##### **No Teste T Pareado, é obrigatório verificar se há normalidade entre as duas amostras antes de realizar o Teste de Hipótese. É calculado a diferença entre as observações (as duas variáveis). Verificar se a diferença representa uma distribuição normal.**"
      ]
    },
    {
      "cell_type": "markdown",
      "metadata": {},
      "source": [
        "Diferença entre os retornos de sexta e segunda subsequente:\n",
        "\n",
        "- Calcular a diferença entre os retornos de sexta-feira e os retornos de segunda-feira subsequente para cada par de dias. Essa diferença é armazenada em uma nova coluna 'diff_sex_seg' no DataFrame df_analise"
      ]
    },
    {
      "cell_type": "code",
      "execution_count": 9,
      "metadata": {
        "id": "-NaQzjl0T-3M"
      },
      "outputs": [],
      "source": [
        "df_analise['diff_sex_seg'] = df_analise.Friday - df_analise.Monday"
      ]
    },
    {
      "cell_type": "markdown",
      "metadata": {},
      "source": [
        "Verificar se a diferença entre os retornos de sexta e segunda-feira segue uma distribuição normal. A hipótese nula (H0) é de que a distribuição é normal"
      ]
    },
    {
      "cell_type": "code",
      "execution_count": 10,
      "metadata": {
        "colab": {
          "base_uri": "https://localhost:8080/"
        },
        "id": "ZCTtKKIu1R0p",
        "outputId": "9aed018e-78e4-4bc0-f1f1-5ad3b3a120ab"
      },
      "outputs": [
        {
          "name": "stdout",
          "output_type": "stream",
          "text": [
            "NormaltestResult(statistic=5.236286394977943, pvalue=0.07293816894543872)\n"
          ]
        }
      ],
      "source": [
        "teste_normalidade = stats.normaltest(df_analise['diff_sex_seg'])\n",
        "print(teste_normalidade)"
      ]
    },
    {
      "cell_type": "markdown",
      "metadata": {},
      "source": [
        "##### **Teste de normalidade, p-valor de 0.073, maior que 0.05. As diferenças entre os retornos de sexta e segunda-feira seguem uma distribuição aproximadamente normal. Portanto, o Teste T Pareado é válido para este conjunto de dados.**"
      ]
    },
    {
      "cell_type": "markdown",
      "metadata": {},
      "source": [
        "Q-Q Plot, outro teste de normalidade"
      ]
    },
    {
      "cell_type": "code",
      "execution_count": 11,
      "metadata": {
        "colab": {
          "base_uri": "https://localhost:8080/"
        },
        "id": "5wD7AMjBUG7j",
        "outputId": "2761bdc9-2dc1-4d0b-ced5-ac2951117697"
      },
      "outputs": [
        {
          "data": {
            "image/png": "[encoded data removed]",
            "text/plain": [
              "<Figure size 640x480 with 1 Axes>"
            ]
          },
          "metadata": {},
          "output_type": "display_data"
        }
      ],
      "source": [
        "stats.probplot(df_analise.diff_sex_seg, dist=\"norm\", plot=pylab)\n",
        "pylab.show()"
      ]
    },
    {
      "cell_type": "markdown",
      "metadata": {
        "id": "3MNfDM01Wuib"
      },
      "source": [
        "**Teste estatístico**"
      ]
    },
    {
      "cell_type": "markdown",
      "metadata": {
        "id": "l43rSi9yWyk-"
      },
      "source": [
        "*Pergunta: a média dos retornos da segunda-feira é estatisticamente menor que a média dos retornos da sexta-feira que a precede?*"
      ]
    },
    {
      "cell_type": "markdown",
      "metadata": {
        "id": "omuuuGqPWyk-"
      },
      "source": [
        "* Hipótese H0 (nula): As médias de retorno <u>não diferem</u> estatisticamente\n",
        "* Hipótese H1 (alternativa): As médias de retorno  <u>diferem</u> estatisticamente"
      ]
    },
    {
      "cell_type": "code",
      "execution_count": 12,
      "metadata": {
        "colab": {
          "base_uri": "https://localhost:8080/"
        },
        "id": "X79iHfrkqFvh",
        "outputId": "aa879fda-15bc-41e0-92f9-41d65537ffbe"
      },
      "outputs": [
        {
          "data": {
            "text/plain": [
              "TtestResult(statistic=-0.30041567725310847, pvalue=0.7643672710143482, df=123)"
            ]
          },
          "execution_count": 12,
          "metadata": {},
          "output_type": "execute_result"
        }
      ],
      "source": [
        "stats.ttest_rel(df_analise.Monday, df_analise.Friday)"
      ]
    },
    {
      "cell_type": "markdown",
      "metadata": {},
      "source": [
        "##### **Teste T Pareado com p-valor de 0.764, maior que 0.05. Não há evidências suficientes para rejeitar a hipótese nula, o que implica que as médias de retorno de sexta-feira e segunda-feira não diferem estatisticamente.**  \n",
        "##### **Isso sugere que o \"weekend effect\" não está presente no período analisado (2022 até a atualidade).**"
      ]
    },
    {
      "cell_type": "code",
      "execution_count": null,
      "metadata": {},
      "outputs": [],
      "source": []
    },
    {
      "cell_type": "markdown",
      "metadata": {},
      "source": [
        "### **Teste 2: Todo o período histórico**"
      ]
    },
    {
      "cell_type": "markdown",
      "metadata": {},
      "source": [
        "Aumentando o período analisado para todo o histórico do Ibovespa:  \n",
        "Há uma chance maior de rejeitar a hipótese nula (H0) e detectar um efeito significativo, corroborando o \"Weekend effect\"?\n",
        "\n",
        "- Hipótese H0 (nula): As médias de retorno não diferem estatisticamente\n",
        "- Hipótese H1 (alternativa): As médias de retorno diferem estatisticamente"
      ]
    },
    {
      "cell_type": "markdown",
      "metadata": {},
      "source": [
        "Baixar dados do IBOVESPA de 2010 a 2022"
      ]
    },
    {
      "cell_type": "code",
      "execution_count": 13,
      "metadata": {},
      "outputs": [
        {
          "name": "stderr",
          "output_type": "stream",
          "text": [
            "[*********************100%%**********************]  1 of 1 completed\n"
          ]
        },
        {
          "data": {
            "text/html": [
              "<div>\n",
              "<style scoped>\n",
              "    .dataframe tbody tr th:only-of-type {\n",
              "        vertical-align: middle;\n",
              "    }\n",
              "\n",
              "    .dataframe tbody tr th {\n",
              "        vertical-align: top;\n",
              "    }\n",
              "\n",
              "    .dataframe thead th {\n",
              "        text-align: right;\n",
              "    }\n",
              "</style>\n",
              "<table border=\"1\" class=\"dataframe\">\n",
              "  <thead>\n",
              "    <tr style=\"text-align: right;\">\n",
              "      <th></th>\n",
              "      <th>Open</th>\n",
              "      <th>High</th>\n",
              "      <th>Low</th>\n",
              "      <th>Close</th>\n",
              "      <th>Adj Close</th>\n",
              "      <th>Volume</th>\n",
              "      <th>retornos</th>\n",
              "    </tr>\n",
              "    <tr>\n",
              "      <th>Date</th>\n",
              "      <th></th>\n",
              "      <th></th>\n",
              "      <th></th>\n",
              "      <th></th>\n",
              "      <th></th>\n",
              "      <th></th>\n",
              "      <th></th>\n",
              "    </tr>\n",
              "  </thead>\n",
              "  <tbody>\n",
              "    <tr>\n",
              "      <th>1993-04-28</th>\n",
              "      <td>24.500000</td>\n",
              "      <td>24.600000</td>\n",
              "      <td>23.700001</td>\n",
              "      <td>24.299999</td>\n",
              "      <td>24.299999</td>\n",
              "      <td>0</td>\n",
              "      <td>-0.816330</td>\n",
              "    </tr>\n",
              "    <tr>\n",
              "      <th>1993-04-29</th>\n",
              "      <td>24.299999</td>\n",
              "      <td>24.799999</td>\n",
              "      <td>23.700001</td>\n",
              "      <td>23.700001</td>\n",
              "      <td>23.700001</td>\n",
              "      <td>0</td>\n",
              "      <td>-2.469130</td>\n",
              "    </tr>\n",
              "    <tr>\n",
              "      <th>1993-04-30</th>\n",
              "      <td>23.700001</td>\n",
              "      <td>24.200001</td>\n",
              "      <td>23.700001</td>\n",
              "      <td>24.100000</td>\n",
              "      <td>24.100000</td>\n",
              "      <td>0</td>\n",
              "      <td>1.687762</td>\n",
              "    </tr>\n",
              "    <tr>\n",
              "      <th>1993-05-03</th>\n",
              "      <td>24.100000</td>\n",
              "      <td>24.400000</td>\n",
              "      <td>23.799999</td>\n",
              "      <td>24.100000</td>\n",
              "      <td>24.100000</td>\n",
              "      <td>0</td>\n",
              "      <td>0.000000</td>\n",
              "    </tr>\n",
              "    <tr>\n",
              "      <th>1993-05-04</th>\n",
              "      <td>24.100000</td>\n",
              "      <td>25.000000</td>\n",
              "      <td>24.100000</td>\n",
              "      <td>24.900000</td>\n",
              "      <td>24.900000</td>\n",
              "      <td>0</td>\n",
              "      <td>3.319499</td>\n",
              "    </tr>\n",
              "    <tr>\n",
              "      <th>...</th>\n",
              "      <td>...</td>\n",
              "      <td>...</td>\n",
              "      <td>...</td>\n",
              "      <td>...</td>\n",
              "      <td>...</td>\n",
              "      <td>...</td>\n",
              "      <td>...</td>\n",
              "    </tr>\n",
              "    <tr>\n",
              "      <th>2024-08-02</th>\n",
              "      <td>127395.000000</td>\n",
              "      <td>128104.000000</td>\n",
              "      <td>125731.000000</td>\n",
              "      <td>125854.000000</td>\n",
              "      <td>125854.000000</td>\n",
              "      <td>9950900</td>\n",
              "      <td>-1.209624</td>\n",
              "    </tr>\n",
              "    <tr>\n",
              "      <th>2024-08-05</th>\n",
              "      <td>125851.000000</td>\n",
              "      <td>125851.000000</td>\n",
              "      <td>123073.000000</td>\n",
              "      <td>125270.000000</td>\n",
              "      <td>125270.000000</td>\n",
              "      <td>10886100</td>\n",
              "      <td>-0.464030</td>\n",
              "    </tr>\n",
              "    <tr>\n",
              "      <th>2024-08-06</th>\n",
              "      <td>125270.000000</td>\n",
              "      <td>126966.000000</td>\n",
              "      <td>125261.000000</td>\n",
              "      <td>126267.000000</td>\n",
              "      <td>126267.000000</td>\n",
              "      <td>10052600</td>\n",
              "      <td>0.795881</td>\n",
              "    </tr>\n",
              "    <tr>\n",
              "      <th>2024-08-07</th>\n",
              "      <td>126268.000000</td>\n",
              "      <td>127517.000000</td>\n",
              "      <td>126268.000000</td>\n",
              "      <td>127514.000000</td>\n",
              "      <td>127514.000000</td>\n",
              "      <td>8837900</td>\n",
              "      <td>0.987590</td>\n",
              "    </tr>\n",
              "    <tr>\n",
              "      <th>2024-08-08</th>\n",
              "      <td>127515.171875</td>\n",
              "      <td>128792.992188</td>\n",
              "      <td>127515.171875</td>\n",
              "      <td>128573.031250</td>\n",
              "      <td>128573.031250</td>\n",
              "      <td>0</td>\n",
              "      <td>0.830522</td>\n",
              "    </tr>\n",
              "  </tbody>\n",
              "</table>\n",
              "<p>7745 rows × 7 columns</p>\n",
              "</div>"
            ],
            "text/plain": [
              "                     Open           High            Low          Close  \\\n",
              "Date                                                                     \n",
              "1993-04-28      24.500000      24.600000      23.700001      24.299999   \n",
              "1993-04-29      24.299999      24.799999      23.700001      23.700001   \n",
              "1993-04-30      23.700001      24.200001      23.700001      24.100000   \n",
              "1993-05-03      24.100000      24.400000      23.799999      24.100000   \n",
              "1993-05-04      24.100000      25.000000      24.100000      24.900000   \n",
              "...                   ...            ...            ...            ...   \n",
              "2024-08-02  127395.000000  128104.000000  125731.000000  125854.000000   \n",
              "2024-08-05  125851.000000  125851.000000  123073.000000  125270.000000   \n",
              "2024-08-06  125270.000000  126966.000000  125261.000000  126267.000000   \n",
              "2024-08-07  126268.000000  127517.000000  126268.000000  127514.000000   \n",
              "2024-08-08  127515.171875  128792.992188  127515.171875  128573.031250   \n",
              "\n",
              "                Adj Close    Volume  retornos  \n",
              "Date                                           \n",
              "1993-04-28      24.299999         0 -0.816330  \n",
              "1993-04-29      23.700001         0 -2.469130  \n",
              "1993-04-30      24.100000         0  1.687762  \n",
              "1993-05-03      24.100000         0  0.000000  \n",
              "1993-05-04      24.900000         0  3.319499  \n",
              "...                   ...       ...       ...  \n",
              "2024-08-02  125854.000000   9950900 -1.209624  \n",
              "2024-08-05  125270.000000  10886100 -0.464030  \n",
              "2024-08-06  126267.000000  10052600  0.795881  \n",
              "2024-08-07  127514.000000   8837900  0.987590  \n",
              "2024-08-08  128573.031250         0  0.830522  \n",
              "\n",
              "[7745 rows x 7 columns]"
            ]
          },
          "execution_count": 13,
          "metadata": {},
          "output_type": "execute_result"
        }
      ],
      "source": [
        "dados_ibov = yf.download('^BVSP')\n",
        "dados_ibov['retornos'] = dados_ibov.Close.pct_change()*100\n",
        "dados_ibov.dropna()"
      ]
    },
    {
      "cell_type": "code",
      "execution_count": 14,
      "metadata": {},
      "outputs": [
        {
          "data": {
            "text/html": [
              "<div>\n",
              "<style scoped>\n",
              "    .dataframe tbody tr th:only-of-type {\n",
              "        vertical-align: middle;\n",
              "    }\n",
              "\n",
              "    .dataframe tbody tr th {\n",
              "        vertical-align: top;\n",
              "    }\n",
              "\n",
              "    .dataframe thead th {\n",
              "        text-align: right;\n",
              "    }\n",
              "</style>\n",
              "<table border=\"1\" class=\"dataframe\">\n",
              "  <thead>\n",
              "    <tr style=\"text-align: right;\">\n",
              "      <th></th>\n",
              "      <th>Open</th>\n",
              "      <th>High</th>\n",
              "      <th>Low</th>\n",
              "      <th>Close</th>\n",
              "      <th>Adj Close</th>\n",
              "      <th>Volume</th>\n",
              "      <th>retornos</th>\n",
              "      <th>dia_semana</th>\n",
              "      <th>dia_semana_num</th>\n",
              "      <th>semana_ano</th>\n",
              "      <th>ano</th>\n",
              "      <th>ano_semana</th>\n",
              "    </tr>\n",
              "    <tr>\n",
              "      <th>Date</th>\n",
              "      <th></th>\n",
              "      <th></th>\n",
              "      <th></th>\n",
              "      <th></th>\n",
              "      <th></th>\n",
              "      <th></th>\n",
              "      <th></th>\n",
              "      <th></th>\n",
              "      <th></th>\n",
              "      <th></th>\n",
              "      <th></th>\n",
              "      <th></th>\n",
              "    </tr>\n",
              "  </thead>\n",
              "  <tbody>\n",
              "    <tr>\n",
              "      <th>1993-04-28</th>\n",
              "      <td>24.500000</td>\n",
              "      <td>24.600000</td>\n",
              "      <td>23.700001</td>\n",
              "      <td>24.299999</td>\n",
              "      <td>24.299999</td>\n",
              "      <td>0</td>\n",
              "      <td>-0.816330</td>\n",
              "      <td>Wednesday</td>\n",
              "      <td>2</td>\n",
              "      <td>17</td>\n",
              "      <td>1993</td>\n",
              "      <td>1993_17</td>\n",
              "    </tr>\n",
              "    <tr>\n",
              "      <th>1993-04-29</th>\n",
              "      <td>24.299999</td>\n",
              "      <td>24.799999</td>\n",
              "      <td>23.700001</td>\n",
              "      <td>23.700001</td>\n",
              "      <td>23.700001</td>\n",
              "      <td>0</td>\n",
              "      <td>-2.469130</td>\n",
              "      <td>Thursday</td>\n",
              "      <td>3</td>\n",
              "      <td>17</td>\n",
              "      <td>1993</td>\n",
              "      <td>1993_17</td>\n",
              "    </tr>\n",
              "    <tr>\n",
              "      <th>1993-04-30</th>\n",
              "      <td>23.700001</td>\n",
              "      <td>24.200001</td>\n",
              "      <td>23.700001</td>\n",
              "      <td>24.100000</td>\n",
              "      <td>24.100000</td>\n",
              "      <td>0</td>\n",
              "      <td>1.687762</td>\n",
              "      <td>Friday</td>\n",
              "      <td>4</td>\n",
              "      <td>17</td>\n",
              "      <td>1993</td>\n",
              "      <td>1993_17</td>\n",
              "    </tr>\n",
              "    <tr>\n",
              "      <th>1993-05-03</th>\n",
              "      <td>24.100000</td>\n",
              "      <td>24.400000</td>\n",
              "      <td>23.799999</td>\n",
              "      <td>24.100000</td>\n",
              "      <td>24.100000</td>\n",
              "      <td>0</td>\n",
              "      <td>0.000000</td>\n",
              "      <td>Monday</td>\n",
              "      <td>0</td>\n",
              "      <td>18</td>\n",
              "      <td>1993</td>\n",
              "      <td>1993_18</td>\n",
              "    </tr>\n",
              "    <tr>\n",
              "      <th>1993-05-04</th>\n",
              "      <td>24.100000</td>\n",
              "      <td>25.000000</td>\n",
              "      <td>24.100000</td>\n",
              "      <td>24.900000</td>\n",
              "      <td>24.900000</td>\n",
              "      <td>0</td>\n",
              "      <td>3.319499</td>\n",
              "      <td>Tuesday</td>\n",
              "      <td>1</td>\n",
              "      <td>18</td>\n",
              "      <td>1993</td>\n",
              "      <td>1993_18</td>\n",
              "    </tr>\n",
              "    <tr>\n",
              "      <th>...</th>\n",
              "      <td>...</td>\n",
              "      <td>...</td>\n",
              "      <td>...</td>\n",
              "      <td>...</td>\n",
              "      <td>...</td>\n",
              "      <td>...</td>\n",
              "      <td>...</td>\n",
              "      <td>...</td>\n",
              "      <td>...</td>\n",
              "      <td>...</td>\n",
              "      <td>...</td>\n",
              "      <td>...</td>\n",
              "    </tr>\n",
              "    <tr>\n",
              "      <th>2024-08-02</th>\n",
              "      <td>127395.000000</td>\n",
              "      <td>128104.000000</td>\n",
              "      <td>125731.000000</td>\n",
              "      <td>125854.000000</td>\n",
              "      <td>125854.000000</td>\n",
              "      <td>9950900</td>\n",
              "      <td>-1.209624</td>\n",
              "      <td>Friday</td>\n",
              "      <td>4</td>\n",
              "      <td>31</td>\n",
              "      <td>2024</td>\n",
              "      <td>2024_31</td>\n",
              "    </tr>\n",
              "    <tr>\n",
              "      <th>2024-08-05</th>\n",
              "      <td>125851.000000</td>\n",
              "      <td>125851.000000</td>\n",
              "      <td>123073.000000</td>\n",
              "      <td>125270.000000</td>\n",
              "      <td>125270.000000</td>\n",
              "      <td>10886100</td>\n",
              "      <td>-0.464030</td>\n",
              "      <td>Monday</td>\n",
              "      <td>0</td>\n",
              "      <td>32</td>\n",
              "      <td>2024</td>\n",
              "      <td>2024_32</td>\n",
              "    </tr>\n",
              "    <tr>\n",
              "      <th>2024-08-06</th>\n",
              "      <td>125270.000000</td>\n",
              "      <td>126966.000000</td>\n",
              "      <td>125261.000000</td>\n",
              "      <td>126267.000000</td>\n",
              "      <td>126267.000000</td>\n",
              "      <td>10052600</td>\n",
              "      <td>0.795881</td>\n",
              "      <td>Tuesday</td>\n",
              "      <td>1</td>\n",
              "      <td>32</td>\n",
              "      <td>2024</td>\n",
              "      <td>2024_32</td>\n",
              "    </tr>\n",
              "    <tr>\n",
              "      <th>2024-08-07</th>\n",
              "      <td>126268.000000</td>\n",
              "      <td>127517.000000</td>\n",
              "      <td>126268.000000</td>\n",
              "      <td>127514.000000</td>\n",
              "      <td>127514.000000</td>\n",
              "      <td>8837900</td>\n",
              "      <td>0.987590</td>\n",
              "      <td>Wednesday</td>\n",
              "      <td>2</td>\n",
              "      <td>32</td>\n",
              "      <td>2024</td>\n",
              "      <td>2024_32</td>\n",
              "    </tr>\n",
              "    <tr>\n",
              "      <th>2024-08-08</th>\n",
              "      <td>127515.171875</td>\n",
              "      <td>128792.992188</td>\n",
              "      <td>127515.171875</td>\n",
              "      <td>128573.031250</td>\n",
              "      <td>128573.031250</td>\n",
              "      <td>0</td>\n",
              "      <td>0.830522</td>\n",
              "      <td>Thursday</td>\n",
              "      <td>3</td>\n",
              "      <td>32</td>\n",
              "      <td>2024</td>\n",
              "      <td>2024_32</td>\n",
              "    </tr>\n",
              "  </tbody>\n",
              "</table>\n",
              "<p>7745 rows × 12 columns</p>\n",
              "</div>"
            ],
            "text/plain": [
              "                     Open           High            Low          Close  \\\n",
              "Date                                                                     \n",
              "1993-04-28      24.500000      24.600000      23.700001      24.299999   \n",
              "1993-04-29      24.299999      24.799999      23.700001      23.700001   \n",
              "1993-04-30      23.700001      24.200001      23.700001      24.100000   \n",
              "1993-05-03      24.100000      24.400000      23.799999      24.100000   \n",
              "1993-05-04      24.100000      25.000000      24.100000      24.900000   \n",
              "...                   ...            ...            ...            ...   \n",
              "2024-08-02  127395.000000  128104.000000  125731.000000  125854.000000   \n",
              "2024-08-05  125851.000000  125851.000000  123073.000000  125270.000000   \n",
              "2024-08-06  125270.000000  126966.000000  125261.000000  126267.000000   \n",
              "2024-08-07  126268.000000  127517.000000  126268.000000  127514.000000   \n",
              "2024-08-08  127515.171875  128792.992188  127515.171875  128573.031250   \n",
              "\n",
              "                Adj Close    Volume  retornos dia_semana  dia_semana_num  \\\n",
              "Date                                                                       \n",
              "1993-04-28      24.299999         0 -0.816330  Wednesday               2   \n",
              "1993-04-29      23.700001         0 -2.469130   Thursday               3   \n",
              "1993-04-30      24.100000         0  1.687762     Friday               4   \n",
              "1993-05-03      24.100000         0  0.000000     Monday               0   \n",
              "1993-05-04      24.900000         0  3.319499    Tuesday               1   \n",
              "...                   ...       ...       ...        ...             ...   \n",
              "2024-08-02  125854.000000   9950900 -1.209624     Friday               4   \n",
              "2024-08-05  125270.000000  10886100 -0.464030     Monday               0   \n",
              "2024-08-06  126267.000000  10052600  0.795881    Tuesday               1   \n",
              "2024-08-07  127514.000000   8837900  0.987590  Wednesday               2   \n",
              "2024-08-08  128573.031250         0  0.830522   Thursday               3   \n",
              "\n",
              "            semana_ano   ano ano_semana  \n",
              "Date                                     \n",
              "1993-04-28          17  1993    1993_17  \n",
              "1993-04-29          17  1993    1993_17  \n",
              "1993-04-30          17  1993    1993_17  \n",
              "1993-05-03          18  1993    1993_18  \n",
              "1993-05-04          18  1993    1993_18  \n",
              "...                ...   ...        ...  \n",
              "2024-08-02          31  2024    2024_31  \n",
              "2024-08-05          32  2024    2024_32  \n",
              "2024-08-06          32  2024    2024_32  \n",
              "2024-08-07          32  2024    2024_32  \n",
              "2024-08-08          32  2024    2024_32  \n",
              "\n",
              "[7745 rows x 12 columns]"
            ]
          },
          "execution_count": 14,
          "metadata": {},
          "output_type": "execute_result"
        }
      ],
      "source": [
        "dados_ibov['dia_semana'] = dados_ibov.index.day_name()\n",
        "dados_ibov['dia_semana_num'] = dados_ibov.index.day_of_week\n",
        "dados_ibov['semana_ano'] = dados_ibov.index.isocalendar().week\n",
        "dados_ibov['ano'] = dados_ibov.index.year\n",
        "\n",
        "dados_ibov['ano_semana'] = dados_ibov['ano'].astype(str) + \"_\" + dados_ibov['semana_ano'].astype(str)\n",
        "\n",
        "dados_ibov.dropna()"
      ]
    },
    {
      "cell_type": "code",
      "execution_count": 15,
      "metadata": {},
      "outputs": [
        {
          "data": {
            "text/html": [
              "<div>\n",
              "<style scoped>\n",
              "    .dataframe tbody tr th:only-of-type {\n",
              "        vertical-align: middle;\n",
              "    }\n",
              "\n",
              "    .dataframe tbody tr th {\n",
              "        vertical-align: top;\n",
              "    }\n",
              "\n",
              "    .dataframe thead th {\n",
              "        text-align: right;\n",
              "    }\n",
              "</style>\n",
              "<table border=\"1\" class=\"dataframe\">\n",
              "  <thead>\n",
              "    <tr style=\"text-align: right;\">\n",
              "      <th></th>\n",
              "      <th>Open</th>\n",
              "      <th>High</th>\n",
              "      <th>Low</th>\n",
              "      <th>Close</th>\n",
              "      <th>Adj Close</th>\n",
              "      <th>Volume</th>\n",
              "      <th>retornos</th>\n",
              "      <th>dia_semana</th>\n",
              "      <th>dia_semana_num</th>\n",
              "      <th>semana_ano</th>\n",
              "      <th>ano</th>\n",
              "      <th>ano_semana</th>\n",
              "    </tr>\n",
              "    <tr>\n",
              "      <th>Date</th>\n",
              "      <th></th>\n",
              "      <th></th>\n",
              "      <th></th>\n",
              "      <th></th>\n",
              "      <th></th>\n",
              "      <th></th>\n",
              "      <th></th>\n",
              "      <th></th>\n",
              "      <th></th>\n",
              "      <th></th>\n",
              "      <th></th>\n",
              "      <th></th>\n",
              "    </tr>\n",
              "  </thead>\n",
              "  <tbody>\n",
              "    <tr>\n",
              "      <th>1993-04-30</th>\n",
              "      <td>23.700001</td>\n",
              "      <td>24.200001</td>\n",
              "      <td>23.700001</td>\n",
              "      <td>24.100000</td>\n",
              "      <td>24.100000</td>\n",
              "      <td>0</td>\n",
              "      <td>1.687762</td>\n",
              "      <td>Friday</td>\n",
              "      <td>4</td>\n",
              "      <td>17</td>\n",
              "      <td>1993</td>\n",
              "      <td>1993_17</td>\n",
              "    </tr>\n",
              "    <tr>\n",
              "      <th>1993-05-03</th>\n",
              "      <td>24.100000</td>\n",
              "      <td>24.400000</td>\n",
              "      <td>23.799999</td>\n",
              "      <td>24.100000</td>\n",
              "      <td>24.100000</td>\n",
              "      <td>0</td>\n",
              "      <td>0.000000</td>\n",
              "      <td>Monday</td>\n",
              "      <td>0</td>\n",
              "      <td>18</td>\n",
              "      <td>1993</td>\n",
              "      <td>1993_18</td>\n",
              "    </tr>\n",
              "    <tr>\n",
              "      <th>1993-05-07</th>\n",
              "      <td>25.600000</td>\n",
              "      <td>26.100000</td>\n",
              "      <td>25.500000</td>\n",
              "      <td>25.799999</td>\n",
              "      <td>25.799999</td>\n",
              "      <td>0</td>\n",
              "      <td>0.781246</td>\n",
              "      <td>Friday</td>\n",
              "      <td>4</td>\n",
              "      <td>18</td>\n",
              "      <td>1993</td>\n",
              "      <td>1993_18</td>\n",
              "    </tr>\n",
              "    <tr>\n",
              "      <th>1993-05-10</th>\n",
              "      <td>25.799999</td>\n",
              "      <td>25.799999</td>\n",
              "      <td>25.100000</td>\n",
              "      <td>25.200001</td>\n",
              "      <td>25.200001</td>\n",
              "      <td>0</td>\n",
              "      <td>-2.325576</td>\n",
              "      <td>Monday</td>\n",
              "      <td>0</td>\n",
              "      <td>19</td>\n",
              "      <td>1993</td>\n",
              "      <td>1993_19</td>\n",
              "    </tr>\n",
              "    <tr>\n",
              "      <th>1993-05-14</th>\n",
              "      <td>27.400000</td>\n",
              "      <td>27.900000</td>\n",
              "      <td>27.400000</td>\n",
              "      <td>27.799999</td>\n",
              "      <td>27.799999</td>\n",
              "      <td>0</td>\n",
              "      <td>1.459853</td>\n",
              "      <td>Friday</td>\n",
              "      <td>4</td>\n",
              "      <td>19</td>\n",
              "      <td>1993</td>\n",
              "      <td>1993_19</td>\n",
              "    </tr>\n",
              "    <tr>\n",
              "      <th>...</th>\n",
              "      <td>...</td>\n",
              "      <td>...</td>\n",
              "      <td>...</td>\n",
              "      <td>...</td>\n",
              "      <td>...</td>\n",
              "      <td>...</td>\n",
              "      <td>...</td>\n",
              "      <td>...</td>\n",
              "      <td>...</td>\n",
              "      <td>...</td>\n",
              "      <td>...</td>\n",
              "      <td>...</td>\n",
              "    </tr>\n",
              "    <tr>\n",
              "      <th>2024-07-22</th>\n",
              "      <td>127616.000000</td>\n",
              "      <td>128151.000000</td>\n",
              "      <td>127456.000000</td>\n",
              "      <td>127860.000000</td>\n",
              "      <td>127860.000000</td>\n",
              "      <td>6098200</td>\n",
              "      <td>0.191199</td>\n",
              "      <td>Monday</td>\n",
              "      <td>0</td>\n",
              "      <td>30</td>\n",
              "      <td>2024</td>\n",
              "      <td>2024_30</td>\n",
              "    </tr>\n",
              "    <tr>\n",
              "      <th>2024-07-26</th>\n",
              "      <td>125964.000000</td>\n",
              "      <td>127700.000000</td>\n",
              "      <td>125953.000000</td>\n",
              "      <td>127492.000000</td>\n",
              "      <td>127492.000000</td>\n",
              "      <td>8272000</td>\n",
              "      <td>1.221081</td>\n",
              "      <td>Friday</td>\n",
              "      <td>4</td>\n",
              "      <td>30</td>\n",
              "      <td>2024</td>\n",
              "      <td>2024_30</td>\n",
              "    </tr>\n",
              "    <tr>\n",
              "      <th>2024-07-29</th>\n",
              "      <td>127492.000000</td>\n",
              "      <td>127657.000000</td>\n",
              "      <td>126606.000000</td>\n",
              "      <td>126954.000000</td>\n",
              "      <td>126954.000000</td>\n",
              "      <td>7075400</td>\n",
              "      <td>-0.421987</td>\n",
              "      <td>Monday</td>\n",
              "      <td>0</td>\n",
              "      <td>31</td>\n",
              "      <td>2024</td>\n",
              "      <td>2024_31</td>\n",
              "    </tr>\n",
              "    <tr>\n",
              "      <th>2024-08-02</th>\n",
              "      <td>127395.000000</td>\n",
              "      <td>128104.000000</td>\n",
              "      <td>125731.000000</td>\n",
              "      <td>125854.000000</td>\n",
              "      <td>125854.000000</td>\n",
              "      <td>9950900</td>\n",
              "      <td>-1.209624</td>\n",
              "      <td>Friday</td>\n",
              "      <td>4</td>\n",
              "      <td>31</td>\n",
              "      <td>2024</td>\n",
              "      <td>2024_31</td>\n",
              "    </tr>\n",
              "    <tr>\n",
              "      <th>2024-08-05</th>\n",
              "      <td>125851.000000</td>\n",
              "      <td>125851.000000</td>\n",
              "      <td>123073.000000</td>\n",
              "      <td>125270.000000</td>\n",
              "      <td>125270.000000</td>\n",
              "      <td>10886100</td>\n",
              "      <td>-0.464030</td>\n",
              "      <td>Monday</td>\n",
              "      <td>0</td>\n",
              "      <td>32</td>\n",
              "      <td>2024</td>\n",
              "      <td>2024_32</td>\n",
              "    </tr>\n",
              "  </tbody>\n",
              "</table>\n",
              "<p>3083 rows × 12 columns</p>\n",
              "</div>"
            ],
            "text/plain": [
              "                     Open           High            Low          Close  \\\n",
              "Date                                                                     \n",
              "1993-04-30      23.700001      24.200001      23.700001      24.100000   \n",
              "1993-05-03      24.100000      24.400000      23.799999      24.100000   \n",
              "1993-05-07      25.600000      26.100000      25.500000      25.799999   \n",
              "1993-05-10      25.799999      25.799999      25.100000      25.200001   \n",
              "1993-05-14      27.400000      27.900000      27.400000      27.799999   \n",
              "...                   ...            ...            ...            ...   \n",
              "2024-07-22  127616.000000  128151.000000  127456.000000  127860.000000   \n",
              "2024-07-26  125964.000000  127700.000000  125953.000000  127492.000000   \n",
              "2024-07-29  127492.000000  127657.000000  126606.000000  126954.000000   \n",
              "2024-08-02  127395.000000  128104.000000  125731.000000  125854.000000   \n",
              "2024-08-05  125851.000000  125851.000000  123073.000000  125270.000000   \n",
              "\n",
              "                Adj Close    Volume  retornos dia_semana  dia_semana_num  \\\n",
              "Date                                                                       \n",
              "1993-04-30      24.100000         0  1.687762     Friday               4   \n",
              "1993-05-03      24.100000         0  0.000000     Monday               0   \n",
              "1993-05-07      25.799999         0  0.781246     Friday               4   \n",
              "1993-05-10      25.200001         0 -2.325576     Monday               0   \n",
              "1993-05-14      27.799999         0  1.459853     Friday               4   \n",
              "...                   ...       ...       ...        ...             ...   \n",
              "2024-07-22  127860.000000   6098200  0.191199     Monday               0   \n",
              "2024-07-26  127492.000000   8272000  1.221081     Friday               4   \n",
              "2024-07-29  126954.000000   7075400 -0.421987     Monday               0   \n",
              "2024-08-02  125854.000000   9950900 -1.209624     Friday               4   \n",
              "2024-08-05  125270.000000  10886100 -0.464030     Monday               0   \n",
              "\n",
              "            semana_ano   ano ano_semana  \n",
              "Date                                     \n",
              "1993-04-30          17  1993    1993_17  \n",
              "1993-05-03          18  1993    1993_18  \n",
              "1993-05-07          18  1993    1993_18  \n",
              "1993-05-10          19  1993    1993_19  \n",
              "1993-05-14          19  1993    1993_19  \n",
              "...                ...   ...        ...  \n",
              "2024-07-22          30  2024    2024_30  \n",
              "2024-07-26          30  2024    2024_30  \n",
              "2024-07-29          31  2024    2024_31  \n",
              "2024-08-02          31  2024    2024_31  \n",
              "2024-08-05          32  2024    2024_32  \n",
              "\n",
              "[3083 rows x 12 columns]"
            ]
          },
          "execution_count": 15,
          "metadata": {},
          "output_type": "execute_result"
        }
      ],
      "source": [
        "dados_seg_sex = dados_ibov[(dados_ibov['dia_semana']=='Monday') | (dados_ibov['dia_semana']=='Friday')]\n",
        "dados_seg_sex.dropna()"
      ]
    },
    {
      "cell_type": "code",
      "execution_count": 16,
      "metadata": {},
      "outputs": [
        {
          "data": {
            "text/html": [
              "<div>\n",
              "<style scoped>\n",
              "    .dataframe tbody tr th:only-of-type {\n",
              "        vertical-align: middle;\n",
              "    }\n",
              "\n",
              "    .dataframe tbody tr th {\n",
              "        vertical-align: top;\n",
              "    }\n",
              "\n",
              "    .dataframe thead th {\n",
              "        text-align: right;\n",
              "    }\n",
              "</style>\n",
              "<table border=\"1\" class=\"dataframe\">\n",
              "  <thead>\n",
              "    <tr style=\"text-align: right;\">\n",
              "      <th></th>\n",
              "      <th>Media_retornos</th>\n",
              "      <th>SEM_retornos</th>\n",
              "    </tr>\n",
              "    <tr>\n",
              "      <th>dia_semana</th>\n",
              "      <th></th>\n",
              "      <th></th>\n",
              "    </tr>\n",
              "  </thead>\n",
              "  <tbody>\n",
              "    <tr>\n",
              "      <th>Monday</th>\n",
              "      <td>-0.010608</td>\n",
              "      <td>0.056786</td>\n",
              "    </tr>\n",
              "    <tr>\n",
              "      <th>Friday</th>\n",
              "      <td>0.221391</td>\n",
              "      <td>0.056472</td>\n",
              "    </tr>\n",
              "  </tbody>\n",
              "</table>\n",
              "</div>"
            ],
            "text/plain": [
              "            Media_retornos  SEM_retornos\n",
              "dia_semana                              \n",
              "Monday           -0.010608      0.056786\n",
              "Friday            0.221391      0.056472"
            ]
          },
          "execution_count": 16,
          "metadata": {},
          "output_type": "execute_result"
        }
      ],
      "source": [
        "dados_media = dados_seg_sex[['dia_semana_num','dia_semana','retornos']].groupby(['dia_semana_num','dia_semana']).mean()\n",
        "dados_media = dados_media.droplevel(0, axis=0)\n",
        "dados_sem = dados_seg_sex[['dia_semana_num','dia_semana','retornos']].groupby(['dia_semana_num','dia_semana']).sem()\n",
        "dados_sem = dados_sem.droplevel(0, axis=0)\n",
        "\n",
        "dados_desde_2010 = pd.concat([dados_media, dados_sem], axis=1)\n",
        "dados_desde_2010.columns = ['Media_retornos', 'SEM_retornos']\n",
        "dados_desde_2010"
      ]
    },
    {
      "cell_type": "markdown",
      "metadata": {},
      "source": [
        "Visualizando os dados da tabela acima"
      ]
    },
    {
      "cell_type": "code",
      "execution_count": 34,
      "metadata": {},
      "outputs": [
        {
          "data": {
            "application/vnd.plotly.v1+json": {
              "config": {
                "plotlyServerURL": "https://plot.ly"
              },
              "data": [
                {
                  "error_y": {
                    "array": [
                      0.05678610546839965,
                      0.056471516677924966
                    ],
                    "type": "data"
                  },
                  "marker": {
                    "color": "lightgreen"
                  },
                  "name": "Retornos",
                  "orientation": "v",
                  "type": "bar",
                  "x": [
                    "Monday",
                    "Friday"
                  ],
                  "y": [
                    -0.010607536650296331,
                    0.22139133222794097
                  ]
                }
              ],
              "layout": {
                "font": {
                  "color": "black",
                  "family": "Arial",
                  "size": 13
                },
                "height": 400,
                "margin": {
                  "b": 75,
                  "l": 75,
                  "r": 20,
                  "t": 75
                },
                "paper_bgcolor": "#f7f8fa",
                "template": {
                  "data": {
                    "scatter": [
                      {
                        "type": "scatter"
                      }
                    ]
                  }
                },
                "title": {
                  "text": "<b>Retornos IBOV</b> (média ± erro padrão da média) por dia da semana <br><b>desde 2022"
                },
                "width": 900,
                "xaxis": {
                  "title": {
                    "text": "<b>Dia da semana"
                  }
                },
                "yaxis": {
                  "title": {
                    "text": "<b>Retorno médio diário (%)"
                  }
                }
              }
            }
          },
          "metadata": {},
          "output_type": "display_data"
        }
      ],
      "source": [
        "fig = go.Figure()\n",
        "\n",
        "fig.add_trace(go.Bar(name='Retornos', x=dados_desde_2010.index, y=dados_desde_2010.Media_retornos,\n",
        "                     error_y=dict(type='data', array=dados_desde_2010.SEM_retornos),\n",
        "                     marker_color='lightgreen', orientation='v'))\n",
        "\n",
        "fig.update_layout(title_text='<b>Retornos IBOV</b> (média \\xB1 erro padrão da média) por dia da semana <br><b>desde 2022', xaxis_title= '<b>Dia da semana',\n",
        "                  yaxis_title= '<b>Retorno médio diário (%)', template=\"none\", margin=dict(l=75, r=20, t=75, b=75),\n",
        "                  paper_bgcolor=\"#f7f8fa\", font=dict(family=\"Arial\", size=13, color=\"black\"), width=900, height=400)\n",
        "\n",
        "fig.show()"
      ]
    },
    {
      "attachments": {
        "t2.png": {
          "image/png": "[encoded data removed]"
        }
      },
      "cell_type": "markdown",
      "metadata": {},
      "source": [
        "![t2.png](attachment:t2.png)"
      ]
    },
    {
      "cell_type": "code",
      "execution_count": 18,
      "metadata": {},
      "outputs": [],
      "source": [
        "dados = {'Data':[], 'Monday':[], 'Friday':[], 'Week_monday':[], 'Week_friday':[]}\n",
        "\n",
        "for i in range(1,len(dados_seg_sex)):\n",
        "  if (dados_seg_sex.iloc[i-1]['dia_semana']=='Friday') and (dados_seg_sex.iloc[i]['dia_semana']=='Monday'):\n",
        "    if dados_seg_sex.iloc[i-1]['semana_ano']==(dados_seg_sex.iloc[i]['semana_ano']-1):\n",
        "      dados['Data'].append(dados_seg_sex.index[i])\n",
        "      dados['Monday'].append(dados_seg_sex.iloc[i]['retornos'])\n",
        "      dados['Week_monday'].append(dados_seg_sex.iloc[i]['ano_semana'])\n",
        "      dados['Friday'].append(dados_seg_sex.iloc[i-1]['retornos'])\n",
        "      dados['Week_friday'].append(dados_seg_sex.iloc[i-1]['ano_semana'])\n",
        "\n",
        "df_analise = pd.DataFrame(dados)"
      ]
    },
    {
      "cell_type": "code",
      "execution_count": 19,
      "metadata": {},
      "outputs": [
        {
          "data": {
            "text/html": [
              "<div>\n",
              "<style scoped>\n",
              "    .dataframe tbody tr th:only-of-type {\n",
              "        vertical-align: middle;\n",
              "    }\n",
              "\n",
              "    .dataframe tbody tr th {\n",
              "        vertical-align: top;\n",
              "    }\n",
              "\n",
              "    .dataframe thead th {\n",
              "        text-align: right;\n",
              "    }\n",
              "</style>\n",
              "<table border=\"1\" class=\"dataframe\">\n",
              "  <thead>\n",
              "    <tr style=\"text-align: right;\">\n",
              "      <th></th>\n",
              "      <th>Data</th>\n",
              "      <th>Monday</th>\n",
              "      <th>Friday</th>\n",
              "      <th>Week_monday</th>\n",
              "      <th>Week_friday</th>\n",
              "    </tr>\n",
              "  </thead>\n",
              "  <tbody>\n",
              "    <tr>\n",
              "      <th>0</th>\n",
              "      <td>1993-05-03</td>\n",
              "      <td>0.000000</td>\n",
              "      <td>1.687762</td>\n",
              "      <td>1993_18</td>\n",
              "      <td>1993_17</td>\n",
              "    </tr>\n",
              "    <tr>\n",
              "      <th>1</th>\n",
              "      <td>1993-05-10</td>\n",
              "      <td>-2.325576</td>\n",
              "      <td>0.781246</td>\n",
              "      <td>1993_19</td>\n",
              "      <td>1993_18</td>\n",
              "    </tr>\n",
              "    <tr>\n",
              "      <th>2</th>\n",
              "      <td>1993-05-17</td>\n",
              "      <td>5.395684</td>\n",
              "      <td>1.459853</td>\n",
              "      <td>1993_20</td>\n",
              "      <td>1993_19</td>\n",
              "    </tr>\n",
              "    <tr>\n",
              "      <th>3</th>\n",
              "      <td>1993-05-24</td>\n",
              "      <td>1.807224</td>\n",
              "      <td>3.750002</td>\n",
              "      <td>1993_21</td>\n",
              "      <td>1993_20</td>\n",
              "    </tr>\n",
              "    <tr>\n",
              "      <th>4</th>\n",
              "      <td>1993-05-31</td>\n",
              "      <td>0.000000</td>\n",
              "      <td>0.287363</td>\n",
              "      <td>1993_22</td>\n",
              "      <td>1993_21</td>\n",
              "    </tr>\n",
              "    <tr>\n",
              "      <th>5</th>\n",
              "      <td>1993-06-07</td>\n",
              "      <td>2.427184</td>\n",
              "      <td>0.980396</td>\n",
              "      <td>1993_23</td>\n",
              "      <td>1993_22</td>\n",
              "    </tr>\n",
              "    <tr>\n",
              "      <th>6</th>\n",
              "      <td>1993-06-14</td>\n",
              "      <td>0.668150</td>\n",
              "      <td>8.192775</td>\n",
              "      <td>1993_24</td>\n",
              "      <td>1993_23</td>\n",
              "    </tr>\n",
              "    <tr>\n",
              "      <th>7</th>\n",
              "      <td>1993-06-21</td>\n",
              "      <td>1.054852</td>\n",
              "      <td>0.636949</td>\n",
              "      <td>1993_25</td>\n",
              "      <td>1993_24</td>\n",
              "    </tr>\n",
              "    <tr>\n",
              "      <th>8</th>\n",
              "      <td>1993-06-28</td>\n",
              "      <td>2.681988</td>\n",
              "      <td>7.186858</td>\n",
              "      <td>1993_26</td>\n",
              "      <td>1993_25</td>\n",
              "    </tr>\n",
              "    <tr>\n",
              "      <th>9</th>\n",
              "      <td>1993-07-05</td>\n",
              "      <td>4.971324</td>\n",
              "      <td>0.000000</td>\n",
              "      <td>1993_27</td>\n",
              "      <td>1993_26</td>\n",
              "    </tr>\n",
              "  </tbody>\n",
              "</table>\n",
              "</div>"
            ],
            "text/plain": [
              "        Data    Monday    Friday Week_monday Week_friday\n",
              "0 1993-05-03  0.000000  1.687762     1993_18     1993_17\n",
              "1 1993-05-10 -2.325576  0.781246     1993_19     1993_18\n",
              "2 1993-05-17  5.395684  1.459853     1993_20     1993_19\n",
              "3 1993-05-24  1.807224  3.750002     1993_21     1993_20\n",
              "4 1993-05-31  0.000000  0.287363     1993_22     1993_21\n",
              "5 1993-06-07  2.427184  0.980396     1993_23     1993_22\n",
              "6 1993-06-14  0.668150  8.192775     1993_24     1993_23\n",
              "7 1993-06-21  1.054852  0.636949     1993_25     1993_24\n",
              "8 1993-06-28  2.681988  7.186858     1993_26     1993_25\n",
              "9 1993-07-05  4.971324  0.000000     1993_27     1993_26"
            ]
          },
          "execution_count": 19,
          "metadata": {},
          "output_type": "execute_result"
        }
      ],
      "source": [
        "df_analise.head(10)"
      ]
    },
    {
      "cell_type": "markdown",
      "metadata": {},
      "source": [
        "##### **No Teste T Pareado, é obrigatório verificar se há normalidade entre as duas amostras antes de realizar o Teste de Hipótese. É calculado a diferença entre as observações (as duas variáveis). Verificar se a diferença representa uma distribuição normal.**"
      ]
    },
    {
      "cell_type": "code",
      "execution_count": 20,
      "metadata": {},
      "outputs": [],
      "source": [
        "df_analise['diff_sex_seg'] = df_analise.Friday - df_analise.Monday"
      ]
    },
    {
      "cell_type": "code",
      "execution_count": 21,
      "metadata": {},
      "outputs": [
        {
          "name": "stdout",
          "output_type": "stream",
          "text": [
            "NormaltestResult(statistic=637.6090771950209, pvalue=3.5070994511762914e-139)\n"
          ]
        }
      ],
      "source": [
        "teste_normalidade = stats.normaltest(df_analise['diff_sex_seg'])\n",
        "print(teste_normalidade)"
      ]
    },
    {
      "cell_type": "markdown",
      "metadata": {},
      "source": [
        "#### **O teste de normalidade resultou em um p-valor extremamente pequeno (3.51e-139), indicando que as diferenças entre os retornos de sexta-feira e segunda-feira não seguem uma distribuição normal.**  \n",
        "#### **Isso compromete a validade do Teste T Pareado, que assume normalidade das diferenças. No \"Teste 3\" abaixo, será testada a tranformação logarítmica para verificação de normalidade.**"
      ]
    },
    {
      "cell_type": "code",
      "execution_count": 22,
      "metadata": {},
      "outputs": [
        {
          "data": {
            "image/png": "[encoded data removed]",
            "text/plain": [
              "<Figure size 640x480 with 1 Axes>"
            ]
          },
          "metadata": {},
          "output_type": "display_data"
        }
      ],
      "source": [
        "stats.probplot(df_analise.diff_sex_seg, dist=\"norm\", plot=pylab)\n",
        "pylab.show()"
      ]
    },
    {
      "cell_type": "markdown",
      "metadata": {},
      "source": [
        "**Teste estatístico**"
      ]
    },
    {
      "cell_type": "markdown",
      "metadata": {},
      "source": [
        "*Pergunta: a média dos retornos da segunda-feira é estatisticamente menor que a média dos retornos da sexta-feira que a precede?*"
      ]
    },
    {
      "cell_type": "markdown",
      "metadata": {},
      "source": [
        "* Hipótese H0 (nula): As médias de retorno <u>não diferem</u> estatisticamente\n",
        "* Hipótese H1 (alternativa): As médias de retorno  <u>diferem</u> estatisticamente"
      ]
    },
    {
      "cell_type": "code",
      "execution_count": 23,
      "metadata": {},
      "outputs": [
        {
          "data": {
            "text/plain": [
              "TtestResult(statistic=-2.997416545988634, pvalue=0.002769115248440681, df=1449)"
            ]
          },
          "execution_count": 23,
          "metadata": {},
          "output_type": "execute_result"
        }
      ],
      "source": [
        "stats.ttest_rel(df_analise.Monday, df_analise.Friday)"
      ]
    },
    {
      "cell_type": "markdown",
      "metadata": {},
      "source": [
        "##### **Apesar da falta de normalidade, o Teste T Pareado foi aplicado, e o p-valor foi 0.0028, indicando uma diferença estatisticamente significativa entre os retornos de sexta-feira e segunda-feira.**  \n",
        "##### **No entanto, devido à falta de normalidade, esses resultados não oferecem segurança para afirmar que rejeitamos H0 analisando todo o período histórico de IBOV.**"
      ]
    },
    {
      "cell_type": "code",
      "execution_count": null,
      "metadata": {},
      "outputs": [],
      "source": []
    },
    {
      "cell_type": "markdown",
      "metadata": {},
      "source": [
        "### **Teste 3: Período histórico com transformação logarítmica**"
      ]
    },
    {
      "cell_type": "markdown",
      "metadata": {},
      "source": [
        "Aplicando a transformação logarítmica às diferenças, reavaliar a normalidade e o teste T pareado com o período extendido:\n",
        "\n",
        "Se a distribuição das diferenças não for normal, o teste T pareado pode não ser apropriado e os resultados podem ser equivocados, como podemos notar em um \"falso positivo\" no teste anterior.\n",
        "\n",
        "As hipóteses permancem as mesmas: Há uma chance maior de rejeitar a hipótese nula (H0) e detectar um efeito significativo, corroborando o \"Weekend effect\"?\n",
        "\n",
        "- Hipótese H0 (nula): As médias de retorno não diferem estatisticamente\n",
        "- Hipótese H1 (alternativa): As médias de retorno diferem estatisticamente"
      ]
    },
    {
      "cell_type": "code",
      "execution_count": 24,
      "metadata": {},
      "outputs": [],
      "source": [
        "df_analise['diff_sex_seg'] = df_analise.Friday - df_analise.Monday"
      ]
    },
    {
      "cell_type": "markdown",
      "metadata": {},
      "source": [
        "##### **Aplicar transformação logarítmica**"
      ]
    },
    {
      "cell_type": "markdown",
      "metadata": {},
      "source": [
        "Como a transformação logarítmica não pode ser aplicada a valores negativos ou zero, aqui foi ajustada a transformação usando o valor absoluto e adicionando um pequeno valor constante para evitar o log(0)."
      ]
    },
    {
      "cell_type": "code",
      "execution_count": 25,
      "metadata": {},
      "outputs": [],
      "source": [
        "# df_analise['log_diff_sex_seg'] = np.log(np.abs(df_analise['diff_sex_seg']) + 1) * np.sign(df_analise['diff_sex_seg'])\n",
        "\n",
        "# df_analise['log_diff_sex_seg'] = np.log(df_analise['diff_sex_seg'] + 1)\n",
        "\n",
        "# Filtrar valores positivos\n",
        "df_analise = df_analise[df_analise['diff_sex_seg'] > 0]\n",
        "\n",
        "# Aplicar a transformação logarítmica\n",
        "df_analise['log_diff_sex_seg'] = np.log(df_analise['diff_sex_seg'])\n"
      ]
    },
    {
      "cell_type": "code",
      "execution_count": 26,
      "metadata": {},
      "outputs": [
        {
          "name": "stdout",
          "output_type": "stream",
          "text": [
            "NormaltestResult(statistic=848.7841778317024, pvalue=4.884921853093988e-185)\n"
          ]
        }
      ],
      "source": [
        "teste_normalidade = stats.normaltest(df_analise['diff_sex_seg'])\n",
        "print(teste_normalidade)"
      ]
    },
    {
      "cell_type": "markdown",
      "metadata": {},
      "source": [
        "##### **Mesmo após aplicar a transformação logarítmica, as diferenças entre os retornos não seguiram uma distribuição normal.**  \n",
        "##### **O p-valor foi apresentou uma leve mudança (4.88e-185), mesmo assim ainda não foi suficiente para executar o Teste T Pareado.**"
      ]
    },
    {
      "cell_type": "code",
      "execution_count": 27,
      "metadata": {},
      "outputs": [
        {
          "data": {
            "image/png": "[encoded data removed]",
            "text/plain": [
              "<Figure size 640x480 with 1 Axes>"
            ]
          },
          "metadata": {},
          "output_type": "display_data"
        }
      ],
      "source": [
        "stats.probplot(df_analise.diff_sex_seg, dist=\"norm\", plot=pylab)\n",
        "pylab.show()"
      ]
    },
    {
      "cell_type": "markdown",
      "metadata": {},
      "source": [
        "**Teste estatístico**"
      ]
    },
    {
      "cell_type": "markdown",
      "metadata": {},
      "source": [
        "*Pergunta: a média dos retornos da segunda-feira é estatisticamente menor que a média dos retornos da sexta-feira que a precede?*"
      ]
    },
    {
      "cell_type": "markdown",
      "metadata": {},
      "source": [
        "* Hipótese H0 (nula): As médias de retorno <u>não diferem</u> estatisticamente\n",
        "* Hipótese H1 (alternativa): As médias de retorno  <u>diferem</u> estatisticamente"
      ]
    },
    {
      "cell_type": "code",
      "execution_count": 28,
      "metadata": {},
      "outputs": [
        {
          "data": {
            "text/plain": [
              "TtestResult(statistic=-23.31694705640703, pvalue=1.679447467407953e-91, df=774)"
            ]
          },
          "execution_count": 28,
          "metadata": {},
          "output_type": "execute_result"
        }
      ],
      "source": [
        "stats.ttest_rel(df_analise.Monday, df_analise.Friday)"
      ]
    },
    {
      "cell_type": "markdown",
      "metadata": {},
      "source": [
        "##### **Apesar da falta de normalidade, o Teste T Pareado foi realizado nas diferenças entre os retornos de sexta e segunda-feira.**  \n",
        "##### **O p-valor de 0.0028 indica que há uma diferença estatisticamente significativa entre os retornos de sexta e segunda-feira analisando o histórico completo de dados.**  \n",
        "##### **No entanto, dado que a normalidade não foi confirmada, esses resultados não oferecem segurança para afirmar que rejeitamos H0 analisando todo o período histórico de IBOV.**"
      ]
    },
    {
      "cell_type": "code",
      "execution_count": null,
      "metadata": {},
      "outputs": [],
      "source": []
    },
    {
      "cell_type": "markdown",
      "metadata": {},
      "source": [
        "### **Teste 4: Box-Cox para tentativa de normalidade das amostras**"
      ]
    },
    {
      "cell_type": "markdown",
      "metadata": {},
      "source": [
        "Aplicar transformação de Box-Cox"
      ]
    },
    {
      "cell_type": "code",
      "execution_count": 29,
      "metadata": {},
      "outputs": [
        {
          "name": "stdout",
          "output_type": "stream",
          "text": [
            "Lambda de Box-Cox: -0.42932110042422206\n"
          ]
        }
      ],
      "source": [
        "df_analise['diff_sex_seg_boxcox'], fitted_lambda = stats.boxcox(df_analise['diff_sex_seg'] + 1 - df_analise['diff_sex_seg'].min())\n",
        "print(\"Lambda de Box-Cox:\", fitted_lambda)"
      ]
    },
    {
      "cell_type": "markdown",
      "metadata": {},
      "source": [
        "Verificar normalidade da diferença com Box-Cox"
      ]
    },
    {
      "cell_type": "code",
      "execution_count": 30,
      "metadata": {},
      "outputs": [
        {
          "name": "stdout",
          "output_type": "stream",
          "text": [
            "Teste de Normalidade (Box-Cox): NormaltestResult(statistic=14.33115140258392, pvalue=0.000772733985432279)\n"
          ]
        }
      ],
      "source": [
        "teste_normalidade_boxcox = stats.normaltest(df_analise['diff_sex_seg_boxcox'].dropna())\n",
        "print(\"Teste de Normalidade (Box-Cox):\", teste_normalidade_boxcox)"
      ]
    },
    {
      "cell_type": "markdown",
      "metadata": {},
      "source": [
        "##### **Após a aplicação da transformação de Box-Cox, o p-valor ainda é extremamente pequeno, o que indica que as diferenças transformadas ainda não seguem uma distribuição normal.**  \n",
        "##### **Mesmo com a transformação de Box-Cox, não foi possível alcançar a normalidade dos dados, o que compromete a validade do Teste T Pareado realizado abaixo.**"
      ]
    },
    {
      "cell_type": "code",
      "execution_count": 31,
      "metadata": {},
      "outputs": [
        {
          "data": {
            "image/png": "[encoded data removed]",
            "text/plain": [
              "<Figure size 640x480 with 1 Axes>"
            ]
          },
          "metadata": {},
          "output_type": "display_data"
        }
      ],
      "source": [
        "# Q-Q Plot para a diferença com Box-Cox\n",
        "stats.probplot(df_analise['diff_sex_seg_boxcox'].dropna(), dist=\"norm\", plot=pylab)\n",
        "pylab.show()"
      ]
    },
    {
      "cell_type": "markdown",
      "metadata": {},
      "source": [
        "Teste T pareado na diferença com Box-Cox"
      ]
    },
    {
      "cell_type": "code",
      "execution_count": 32,
      "metadata": {},
      "outputs": [
        {
          "name": "stdout",
          "output_type": "stream",
          "text": [
            "Teste T Pareado (Box-Cox): TtestResult(statistic=57.67528882727309, pvalue=1.9060363626049596e-282, df=774)\n"
          ]
        }
      ],
      "source": [
        "ttest_result_boxcox = stats.ttest_rel(df_analise['diff_sex_seg_boxcox'], np.zeros_like(df_analise['diff_sex_seg_boxcox']))\n",
        "print(\"Teste T Pareado (Box-Cox):\", ttest_result_boxcox)"
      ]
    },
    {
      "cell_type": "markdown",
      "metadata": {},
      "source": [
        "##### **O p-valor de 0.0 indica uma diferença estatisticamente significativa entre os retornos de sexta-feira e segunda-feira. No entanto, com a falta de normalidade entre as amostras.**"
      ]
    },
    {
      "cell_type": "code",
      "execution_count": null,
      "metadata": {},
      "outputs": [],
      "source": []
    },
    {
      "cell_type": "markdown",
      "metadata": {},
      "source": [
        "### **Teste 5: Wilcoxon corroborando a rejeição de H0**"
      ]
    },
    {
      "cell_type": "markdown",
      "metadata": {},
      "source": [
        "Teste de Wilcoxon para as diferenças entre sexta e segunda-feira"
      ]
    },
    {
      "cell_type": "code",
      "execution_count": 33,
      "metadata": {},
      "outputs": [
        {
          "name": "stdout",
          "output_type": "stream",
          "text": [
            "Teste de Wilcoxon: WilcoxonResult(statistic=0.0, pvalue=1.6621246602157912e-128)\n"
          ]
        }
      ],
      "source": [
        "wilcoxon_result = stats.wilcoxon(df_analise['Friday'], df_analise['Monday'])\n",
        "print(\"Teste de Wilcoxon:\", wilcoxon_result)"
      ]
    },
    {
      "cell_type": "code",
      "execution_count": null,
      "metadata": {},
      "outputs": [],
      "source": []
    },
    {
      "cell_type": "markdown",
      "metadata": {},
      "source": [
        "### **Considerações Finais:**"
      ]
    },
    {
      "cell_type": "markdown",
      "metadata": {},
      "source": [
        "**Normalidade das Diferenças:**\n",
        "\n",
        "- Teste 1: As diferenças entre os retornos seguem uma distribuição aproximadamente normal, conforme indicado pelo p-valor do teste de normalidade.\n",
        "- Teste 2: A distribuição das diferenças não é normal, o que pode impactar a validade do Teste T Pareado, que assume a normalidade das diferenças.\n",
        "- Teste 3: Mesmo com a transformação logarítmica, a distribuição das diferenças ainda não foi normal, o que necessitou a execução de mais dois testes:\n",
        "- Teste 4: Box-Cox, que também não apresentou normalidade das diferenças, invalidando novamente o Teste T Pareado.\n",
        "- Teste 5: Teste de Wilcoxon, que finalmente possibilitou a rejeição de H0 sem a necessidade de normalização. "
      ]
    },
    {
      "cell_type": "markdown",
      "metadata": {},
      "source": [
        "**Resultados do Teste T Pareado:**\n",
        "\n",
        "- Teste 1: O Teste T Pareado não encontrou uma diferença estatisticamente significativa entre os retornos de sexta-feira e segunda-feira (p-valor = 0.764).  \n",
        "Conclusão: Falha em rejeitar H0, indicando que não há evidências de um \"weekend effect\" no período de 2022 até a atualidade.\n",
        "\n",
        "- Teste 2: O Teste T Pareado encontrou uma diferença estatisticamente significativa entre os retornos de sexta-feira e segunda-feira (p-valor = 0.0028).  \n",
        "Conclusão: Embora o teste sugira uma diferença significativa, a falta de normalidade das diferenças compromete a validade do resultado.\n",
        "\n",
        "- Teste 3: Mesmo após a aplicação da transformação logarítmica, o Teste T Pareado ainda indicou uma diferença significativa (p-valor = 0.0028).  \n",
        "Conclusão: A falta de normalidade persiste, e nos sugere cautela na interpretação dos resultados.\n",
        "\n",
        "- Teste 4: O Teste T Pareado foi realizado após a transformação de Box-Cox e indicou uma diferença altamente significativa (p-valor = 0.0).  \n",
        "Conclusão: Apesar do resultado significativo, a ausência de normalidade, mesmo após a transformação, compromete a interpretação do Teste T Pareado.\n",
        "\n",
        "- Teste 5: Não se aplica o Teste T Pareado, pois foi usado o Teste de Wilcoxon, que não requer normalidade.  \n",
        "Conclusão: O Teste de Wilcoxon rejeitou H0, confirmando a existência do \"weekend effect\" no histórico completo do IBOVESPA."
      ]
    },
    {
      "cell_type": "markdown",
      "metadata": {},
      "source": [
        "**Linha temporal menor (desde 2022):**  \n",
        "- O Teste T Pareado indica que não há evidências suficientes para concluir que existe um \"weekend effect\".  \n",
        "Portanto, para um período mais curto, é seguro afirmar que o \"weekend effect\" não está presente.\n",
        "\n",
        "**Linha temporal de todo o histórico:**  \n",
        "- Foi percebido que mesmo sem a normalidade das amostras, o Teste T Pareado já apontava o resultado do teste seguinte:\n",
        "\n",
        "- O Teste de Wilcoxon, ao ser aplicado na linha temporal maior e sem a necessidade de normalização, confirma que podemos rejeitar a hipótese nula.  \n",
        "Podemos afirmar que o \"weekend effect\" existe ao longo de todo o período histórico do IBOVESPA."
      ]
    },
    {
      "cell_type": "code",
      "execution_count": null,
      "metadata": {},
      "outputs": [],
      "source": []
    },
    {
      "cell_type": "markdown",
      "metadata": {},
      "source": [
        "### **Link do livro \"Beyond The Random Walk: A Guide to Stock Market Anomalies and Low-Risk Investing\":**"
      ]
    },
    {
      "cell_type": "markdown",
      "metadata": {},
      "source": [
        "https://academic.oup.com/book/54648/chapter-abstract/422635057?redirectedFrom=fulltext&login=false"
      ]
    }
  ],
  "metadata": {
    "colab": {
      "provenance": []
    },
    "kernelspec": {
      "display_name": "Python 3",
      "name": "python3"
    },
    "language_info": {
      "codemirror_mode": {
        "name": "ipython",
        "version": 3
      },
      "file_extension": ".py",
      "mimetype": "text/x-python",
      "name": "python",
      "nbconvert_exporter": "python",
      "pygments_lexer": "ipython3",
      "version": "3.12.3"
    }
  },
  "nbformat": 4,
  "nbformat_minor": 0
}
