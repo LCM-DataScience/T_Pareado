











import pandas as pd
from scipy import stats
import pylab
import yfinance as yf
import plotly.graph_objects as go
import numpy as np





dados_ibov = yf.download('^BVSP', start='2022-01-01')
dados_ibov['retornos'] = dados_ibov.Close.pct_change()*100
dados_ibov.dropna()





dados_ibov['dia_semana'] = dados_ibov.index.day_name()
dados_ibov['dia_semana_num'] = dados_ibov.index.day_of_week
dados_ibov['semana_ano'] = dados_ibov.index.isocalendar().week
dados_ibov['ano'] = dados_ibov.index.year

dados_ibov['ano_semana'] = dados_ibov['ano'].astype(str) + "_" + dados_ibov['semana_ano'].astype(str)

dados_ibov.dropna()





dados_seg_sex = dados_ibov[(dados_ibov['dia_semana']=='Monday') | (dados_ibov['dia_semana']=='Friday')]
dados_seg_sex.dropna()








dados_media = dados_seg_sex[['dia_semana_num','dia_semana','retornos']].groupby(['dia_semana_num','dia_semana']).mean()
dados_media = dados_media.droplevel(0, axis=0)
dados_sem = dados_seg_sex[['dia_semana_num','dia_semana','retornos']].groupby(['dia_semana_num','dia_semana']).sem()
dados_sem = dados_sem.droplevel(0, axis=0)

dados_desde_2010 = pd.concat([dados_media, dados_sem], axis=1)
dados_desde_2010.columns = ['Media_retornos', 'SEM_retornos']
dados_desde_2010





fig = go.Figure()

fig.add_trace(go.Bar(name='Retornos', x=dados_desde_2010.index, y=dados_desde_2010.Media_retornos,
                     error_y=dict(type='data', array=dados_desde_2010.SEM_retornos),
                     marker_color='lightgreen', orientation='v'))

fig.update_layout(title_text='<b>Retornos IBOV</b> (média \xB1 erro padrão da média) por dia da semana <br><b>Desde 2022', xaxis_title= '<b>Dia da semana',
                  yaxis_title= '<b>Retorno médio diário (%)', template="none", margin=dict(l=75, r=20, t=75, b=75),
                  paper_bgcolor="#f7f8fa", font=dict(family="Arial", size=13, color="black"), width=900, height=400)

fig.show()








dados = {'Data':[], 'Monday':[], 'Friday':[], 'Week_monday':[], 'Week_friday':[]}

for i in range(1,len(dados_seg_sex)):
  if (dados_seg_sex.iloc[i-1]['dia_semana']=='Friday') and (dados_seg_sex.iloc[i]['dia_semana']=='Monday'):
    if dados_seg_sex.iloc[i-1]['semana_ano']==(dados_seg_sex.iloc[i]['semana_ano']-1):
      dados['Data'].append(dados_seg_sex.index[i])
      dados['Monday'].append(dados_seg_sex.iloc[i]['retornos'])
      dados['Week_monday'].append(dados_seg_sex.iloc[i]['ano_semana'])
      dados['Friday'].append(dados_seg_sex.iloc[i-1]['retornos'])
      dados['Week_friday'].append(dados_seg_sex.iloc[i-1]['ano_semana'])

df_analise = pd.DataFrame(dados)


df_analise.head(10)








df_analise['diff_sex_seg'] = df_analise.Friday - df_analise.Monday





teste_normalidade = stats.normaltest(df_analise['diff_sex_seg'])
print(teste_normalidade)








stats.probplot(df_analise.diff_sex_seg, dist="norm", plot=pylab)
pylab.show()











stats.ttest_rel(df_analise.Monday, df_analise.Friday)

















dados_ibov = yf.download('^BVSP')
dados_ibov['retornos'] = dados_ibov.Close.pct_change()*100
dados_ibov.dropna()


dados_ibov['dia_semana'] = dados_ibov.index.day_name()
dados_ibov['dia_semana_num'] = dados_ibov.index.day_of_week
dados_ibov['semana_ano'] = dados_ibov.index.isocalendar().week
dados_ibov['ano'] = dados_ibov.index.year

dados_ibov['ano_semana'] = dados_ibov['ano'].astype(str) + "_" + dados_ibov['semana_ano'].astype(str)

dados_ibov.dropna()


dados_seg_sex = dados_ibov[(dados_ibov['dia_semana']=='Monday') | (dados_ibov['dia_semana']=='Friday')]
dados_seg_sex.dropna()


dados_media = dados_seg_sex[['dia_semana_num','dia_semana','retornos']].groupby(['dia_semana_num','dia_semana']).mean()
dados_media = dados_media.droplevel(0, axis=0)
dados_sem = dados_seg_sex[['dia_semana_num','dia_semana','retornos']].groupby(['dia_semana_num','dia_semana']).sem()
dados_sem = dados_sem.droplevel(0, axis=0)

dados_desde_2010 = pd.concat([dados_media, dados_sem], axis=1)
dados_desde_2010.columns = ['Media_retornos', 'SEM_retornos']
dados_desde_2010





fig = go.Figure()

fig.add_trace(go.Bar(name='Retornos', x=dados_desde_2010.index, y=dados_desde_2010.Media_retornos,
                     error_y=dict(type='data', array=dados_desde_2010.SEM_retornos),
                     marker_color='lightgreen', orientation='v'))

fig.update_layout(title_text='<b>Retornos IBOV</b> (média \xB1 erro padrão da média) por dia da semana <br><b>Dados históricos', xaxis_title= '<b>Dia da semana',
                  yaxis_title= '<b>Retorno médio diário (%)', template="none", margin=dict(l=75, r=20, t=75, b=75),
                  paper_bgcolor="#f7f8fa", font=dict(family="Arial", size=13, color="black"), width=900, height=400)

fig.show()





dados = {'Data':[], 'Monday':[], 'Friday':[], 'Week_monday':[], 'Week_friday':[]}

for i in range(1,len(dados_seg_sex)):
  if (dados_seg_sex.iloc[i-1]['dia_semana']=='Friday') and (dados_seg_sex.iloc[i]['dia_semana']=='Monday'):
    if dados_seg_sex.iloc[i-1]['semana_ano']==(dados_seg_sex.iloc[i]['semana_ano']-1):
      dados['Data'].append(dados_seg_sex.index[i])
      dados['Monday'].append(dados_seg_sex.iloc[i]['retornos'])
      dados['Week_monday'].append(dados_seg_sex.iloc[i]['ano_semana'])
      dados['Friday'].append(dados_seg_sex.iloc[i-1]['retornos'])
      dados['Week_friday'].append(dados_seg_sex.iloc[i-1]['ano_semana'])

df_analise = pd.DataFrame(dados)


df_analise.head(10)





df_analise['diff_sex_seg'] = df_analise.Friday - df_analise.Monday


teste_normalidade = stats.normaltest(df_analise['diff_sex_seg'])
print(teste_normalidade)





stats.probplot(df_analise.diff_sex_seg, dist="norm", plot=pylab)
pylab.show()











stats.ttest_rel(df_analise.Monday, df_analise.Friday)














df_analise['diff_sex_seg'] = df_analise.Friday - df_analise.Monday








# df_analise['log_diff_sex_seg'] = np.log(np.abs(df_analise['diff_sex_seg']) + 1) * np.sign(df_analise['diff_sex_seg'])

# df_analise['log_diff_sex_seg'] = np.log(df_analise['diff_sex_seg'] + 1)

# Filtrar valores positivos
df_analise = df_analise[df_analise['diff_sex_seg'] > 0]

# Aplicar a transformação logarítmica
df_analise['log_diff_sex_seg'] = np.log(df_analise['diff_sex_seg'])



teste_normalidade = stats.normaltest(df_analise['diff_sex_seg'])
print(teste_normalidade)





stats.probplot(df_analise.diff_sex_seg, dist="norm", plot=pylab)
pylab.show()











stats.ttest_rel(df_analise.Monday, df_analise.Friday)














df_analise['diff_sex_seg_boxcox'], fitted_lambda = stats.boxcox(df_analise['diff_sex_seg'] + 1 - df_analise['diff_sex_seg'].min())
print("Lambda de Box-Cox:", fitted_lambda)





teste_normalidade_boxcox = stats.normaltest(df_analise['diff_sex_seg_boxcox'].dropna())
print("Teste de Normalidade (Box-Cox):", teste_normalidade_boxcox)





# Q-Q Plot para a diferença com Box-Cox
stats.probplot(df_analise['diff_sex_seg_boxcox'].dropna(), dist="norm", plot=pylab)
pylab.show()





ttest_result_boxcox = stats.ttest_rel(df_analise['diff_sex_seg_boxcox'], np.zeros_like(df_analise['diff_sex_seg_boxcox']))
print("Teste T Pareado (Box-Cox):", ttest_result_boxcox)














wilcoxon_result = stats.wilcoxon(df_analise['Friday'], df_analise['Monday'])
print("Teste de Wilcoxon:", wilcoxon_result)
























